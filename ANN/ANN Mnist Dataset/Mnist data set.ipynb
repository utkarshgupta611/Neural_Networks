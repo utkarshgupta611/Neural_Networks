{
 "cells": [
  {
   "cell_type": "code",
   "execution_count": 1,
   "metadata": {},
   "outputs": [
    {
     "ename": "ImportError",
     "evalue": "Traceback (most recent call last):\n  File \"C:\\Users\\utkar\\anaconda3\\lib\\site-packages\\tensorflow\\python\\pywrap_tensorflow.py\", line 18, in swig_import_helper\n    fp, pathname, description = imp.find_module('_pywrap_tensorflow', [dirname(__file__)])\n  File \"C:\\Users\\utkar\\anaconda3\\lib\\imp.py\", line 296, in find_module\n    raise ImportError(_ERR_MSG.format(name), name=name)\nImportError: No module named '_pywrap_tensorflow'\n\nDuring handling of the above exception, another exception occurred:\n\nTraceback (most recent call last):\n  File \"C:\\Users\\utkar\\anaconda3\\lib\\site-packages\\tensorflow\\python\\__init__.py\", line 66, in <module>\n    from tensorflow.python import pywrap_tensorflow\n  File \"C:\\Users\\utkar\\anaconda3\\lib\\site-packages\\tensorflow\\python\\pywrap_tensorflow.py\", line 28, in <module>\n    _pywrap_tensorflow = swig_import_helper()\n  File \"C:\\Users\\utkar\\anaconda3\\lib\\site-packages\\tensorflow\\python\\pywrap_tensorflow.py\", line 20, in swig_import_helper\n    import _pywrap_tensorflow\nModuleNotFoundError: No module named '_pywrap_tensorflow'\n\n\nFailed to load the native TensorFlow runtime.\n\nSee https://github.com/tensorflow/tensorflow/blob/master/tensorflow/g3doc/get_started/os_setup.md#import_error\n\nfor some common reasons and solutions.  Include the entire stack trace\nabove this error message when asking for help.",
     "output_type": "error",
     "traceback": [
      "\u001b[1;31m---------------------------------------------------------------------------\u001b[0m",
      "\u001b[1;31mImportError\u001b[0m                               Traceback (most recent call last)",
      "\u001b[1;32m~\\anaconda3\\lib\\site-packages\\tensorflow\\python\\pywrap_tensorflow.py\u001b[0m in \u001b[0;36mswig_import_helper\u001b[1;34m()\u001b[0m\n\u001b[0;32m     17\u001b[0m         \u001b[1;32mtry\u001b[0m\u001b[1;33m:\u001b[0m\u001b[1;33m\u001b[0m\u001b[1;33m\u001b[0m\u001b[0m\n\u001b[1;32m---> 18\u001b[1;33m             \u001b[0mfp\u001b[0m\u001b[1;33m,\u001b[0m \u001b[0mpathname\u001b[0m\u001b[1;33m,\u001b[0m \u001b[0mdescription\u001b[0m \u001b[1;33m=\u001b[0m \u001b[0mimp\u001b[0m\u001b[1;33m.\u001b[0m\u001b[0mfind_module\u001b[0m\u001b[1;33m(\u001b[0m\u001b[1;34m'_pywrap_tensorflow'\u001b[0m\u001b[1;33m,\u001b[0m \u001b[1;33m[\u001b[0m\u001b[0mdirname\u001b[0m\u001b[1;33m(\u001b[0m\u001b[0m__file__\u001b[0m\u001b[1;33m)\u001b[0m\u001b[1;33m]\u001b[0m\u001b[1;33m)\u001b[0m\u001b[1;33m\u001b[0m\u001b[1;33m\u001b[0m\u001b[0m\n\u001b[0m\u001b[0;32m     19\u001b[0m         \u001b[1;32mexcept\u001b[0m \u001b[0mImportError\u001b[0m\u001b[1;33m:\u001b[0m\u001b[1;33m\u001b[0m\u001b[1;33m\u001b[0m\u001b[0m\n",
      "\u001b[1;32m~\\anaconda3\\lib\\imp.py\u001b[0m in \u001b[0;36mfind_module\u001b[1;34m(name, path)\u001b[0m\n\u001b[0;32m    295\u001b[0m     \u001b[1;32melse\u001b[0m\u001b[1;33m:\u001b[0m\u001b[1;33m\u001b[0m\u001b[1;33m\u001b[0m\u001b[0m\n\u001b[1;32m--> 296\u001b[1;33m         \u001b[1;32mraise\u001b[0m \u001b[0mImportError\u001b[0m\u001b[1;33m(\u001b[0m\u001b[0m_ERR_MSG\u001b[0m\u001b[1;33m.\u001b[0m\u001b[0mformat\u001b[0m\u001b[1;33m(\u001b[0m\u001b[0mname\u001b[0m\u001b[1;33m)\u001b[0m\u001b[1;33m,\u001b[0m \u001b[0mname\u001b[0m\u001b[1;33m=\u001b[0m\u001b[0mname\u001b[0m\u001b[1;33m)\u001b[0m\u001b[1;33m\u001b[0m\u001b[1;33m\u001b[0m\u001b[0m\n\u001b[0m\u001b[0;32m    297\u001b[0m \u001b[1;33m\u001b[0m\u001b[0m\n",
      "\u001b[1;31mImportError\u001b[0m: No module named '_pywrap_tensorflow'",
      "\nDuring handling of the above exception, another exception occurred:\n",
      "\u001b[1;31mModuleNotFoundError\u001b[0m                       Traceback (most recent call last)",
      "\u001b[1;32m~\\anaconda3\\lib\\site-packages\\tensorflow\\python\\__init__.py\u001b[0m in \u001b[0;36m<module>\u001b[1;34m\u001b[0m\n\u001b[0;32m     65\u001b[0m     \u001b[1;31m# use `dlopen()` for dynamic loading.\u001b[0m\u001b[1;33m\u001b[0m\u001b[1;33m\u001b[0m\u001b[1;33m\u001b[0m\u001b[0m\n\u001b[1;32m---> 66\u001b[1;33m     \u001b[1;32mfrom\u001b[0m \u001b[0mtensorflow\u001b[0m\u001b[1;33m.\u001b[0m\u001b[0mpython\u001b[0m \u001b[1;32mimport\u001b[0m \u001b[0mpywrap_tensorflow\u001b[0m\u001b[1;33m\u001b[0m\u001b[1;33m\u001b[0m\u001b[0m\n\u001b[0m\u001b[0;32m     67\u001b[0m \u001b[1;32mexcept\u001b[0m \u001b[0mImportError\u001b[0m\u001b[1;33m:\u001b[0m\u001b[1;33m\u001b[0m\u001b[1;33m\u001b[0m\u001b[0m\n",
      "\u001b[1;32m~\\anaconda3\\lib\\site-packages\\tensorflow\\python\\pywrap_tensorflow.py\u001b[0m in \u001b[0;36m<module>\u001b[1;34m\u001b[0m\n\u001b[0;32m     27\u001b[0m             \u001b[1;32mreturn\u001b[0m \u001b[0m_mod\u001b[0m\u001b[1;33m\u001b[0m\u001b[1;33m\u001b[0m\u001b[0m\n\u001b[1;32m---> 28\u001b[1;33m     \u001b[0m_pywrap_tensorflow\u001b[0m \u001b[1;33m=\u001b[0m \u001b[0mswig_import_helper\u001b[0m\u001b[1;33m(\u001b[0m\u001b[1;33m)\u001b[0m\u001b[1;33m\u001b[0m\u001b[1;33m\u001b[0m\u001b[0m\n\u001b[0m\u001b[0;32m     29\u001b[0m     \u001b[1;32mdel\u001b[0m \u001b[0mswig_import_helper\u001b[0m\u001b[1;33m\u001b[0m\u001b[1;33m\u001b[0m\u001b[0m\n",
      "\u001b[1;32m~\\anaconda3\\lib\\site-packages\\tensorflow\\python\\pywrap_tensorflow.py\u001b[0m in \u001b[0;36mswig_import_helper\u001b[1;34m()\u001b[0m\n\u001b[0;32m     19\u001b[0m         \u001b[1;32mexcept\u001b[0m \u001b[0mImportError\u001b[0m\u001b[1;33m:\u001b[0m\u001b[1;33m\u001b[0m\u001b[1;33m\u001b[0m\u001b[0m\n\u001b[1;32m---> 20\u001b[1;33m             \u001b[1;32mimport\u001b[0m \u001b[0m_pywrap_tensorflow\u001b[0m\u001b[1;33m\u001b[0m\u001b[1;33m\u001b[0m\u001b[0m\n\u001b[0m\u001b[0;32m     21\u001b[0m             \u001b[1;32mreturn\u001b[0m \u001b[0m_pywrap_tensorflow\u001b[0m\u001b[1;33m\u001b[0m\u001b[1;33m\u001b[0m\u001b[0m\n",
      "\u001b[1;31mModuleNotFoundError\u001b[0m: No module named '_pywrap_tensorflow'",
      "\nDuring handling of the above exception, another exception occurred:\n",
      "\u001b[1;31mImportError\u001b[0m                               Traceback (most recent call last)",
      "\u001b[1;32m<ipython-input-1-3d1e6d42ad48>\u001b[0m in \u001b[0;36m<module>\u001b[1;34m\u001b[0m\n\u001b[1;32m----> 1\u001b[1;33m \u001b[1;32mimport\u001b[0m \u001b[0mtensorflow\u001b[0m \u001b[1;32mas\u001b[0m \u001b[0mtf\u001b[0m\u001b[1;33m\u001b[0m\u001b[1;33m\u001b[0m\u001b[0m\n\u001b[0m\u001b[0;32m      2\u001b[0m \u001b[1;32mfrom\u001b[0m \u001b[0mtensorflow\u001b[0m \u001b[1;32mimport\u001b[0m \u001b[0mkeras\u001b[0m\u001b[1;33m\u001b[0m\u001b[1;33m\u001b[0m\u001b[0m\n",
      "\u001b[1;32m~\\anaconda3\\lib\\site-packages\\tensorflow\\__init__.py\u001b[0m in \u001b[0;36m<module>\u001b[1;34m\u001b[0m\n\u001b[0;32m     22\u001b[0m \u001b[1;33m\u001b[0m\u001b[0m\n\u001b[0;32m     23\u001b[0m \u001b[1;31m# pylint: disable=wildcard-import\u001b[0m\u001b[1;33m\u001b[0m\u001b[1;33m\u001b[0m\u001b[1;33m\u001b[0m\u001b[0m\n\u001b[1;32m---> 24\u001b[1;33m \u001b[1;32mfrom\u001b[0m \u001b[0mtensorflow\u001b[0m\u001b[1;33m.\u001b[0m\u001b[0mpython\u001b[0m \u001b[1;32mimport\u001b[0m \u001b[1;33m*\u001b[0m\u001b[1;33m\u001b[0m\u001b[1;33m\u001b[0m\u001b[0m\n\u001b[0m\u001b[0;32m     25\u001b[0m \u001b[1;31m# pylint: enable=wildcard-import\u001b[0m\u001b[1;33m\u001b[0m\u001b[1;33m\u001b[0m\u001b[1;33m\u001b[0m\u001b[0m\n\u001b[0;32m     26\u001b[0m \u001b[1;33m\u001b[0m\u001b[0m\n",
      "\u001b[1;32m~\\anaconda3\\lib\\site-packages\\tensorflow\\python\\__init__.py\u001b[0m in \u001b[0;36m<module>\u001b[1;34m\u001b[0m\n\u001b[0;32m     70\u001b[0m \u001b[1;32mfor\u001b[0m \u001b[0msome\u001b[0m \u001b[0mcommon\u001b[0m \u001b[0mreasons\u001b[0m \u001b[1;32mand\u001b[0m \u001b[0msolutions\u001b[0m\u001b[1;33m.\u001b[0m  \u001b[0mInclude\u001b[0m \u001b[0mthe\u001b[0m \u001b[0mentire\u001b[0m \u001b[0mstack\u001b[0m \u001b[0mtrace\u001b[0m\u001b[1;33m\u001b[0m\u001b[1;33m\u001b[0m\u001b[0m\n\u001b[0;32m     71\u001b[0m above this error message when asking for help.\"\"\" % traceback.format_exc()\n\u001b[1;32m---> 72\u001b[1;33m   \u001b[1;32mraise\u001b[0m \u001b[0mImportError\u001b[0m\u001b[1;33m(\u001b[0m\u001b[0mmsg\u001b[0m\u001b[1;33m)\u001b[0m\u001b[1;33m\u001b[0m\u001b[1;33m\u001b[0m\u001b[0m\n\u001b[0m\u001b[0;32m     73\u001b[0m \u001b[1;33m\u001b[0m\u001b[0m\n\u001b[0;32m     74\u001b[0m \u001b[1;31m# Protocol buffers\u001b[0m\u001b[1;33m\u001b[0m\u001b[1;33m\u001b[0m\u001b[1;33m\u001b[0m\u001b[0m\n",
      "\u001b[1;31mImportError\u001b[0m: Traceback (most recent call last):\n  File \"C:\\Users\\utkar\\anaconda3\\lib\\site-packages\\tensorflow\\python\\pywrap_tensorflow.py\", line 18, in swig_import_helper\n    fp, pathname, description = imp.find_module('_pywrap_tensorflow', [dirname(__file__)])\n  File \"C:\\Users\\utkar\\anaconda3\\lib\\imp.py\", line 296, in find_module\n    raise ImportError(_ERR_MSG.format(name), name=name)\nImportError: No module named '_pywrap_tensorflow'\n\nDuring handling of the above exception, another exception occurred:\n\nTraceback (most recent call last):\n  File \"C:\\Users\\utkar\\anaconda3\\lib\\site-packages\\tensorflow\\python\\__init__.py\", line 66, in <module>\n    from tensorflow.python import pywrap_tensorflow\n  File \"C:\\Users\\utkar\\anaconda3\\lib\\site-packages\\tensorflow\\python\\pywrap_tensorflow.py\", line 28, in <module>\n    _pywrap_tensorflow = swig_import_helper()\n  File \"C:\\Users\\utkar\\anaconda3\\lib\\site-packages\\tensorflow\\python\\pywrap_tensorflow.py\", line 20, in swig_import_helper\n    import _pywrap_tensorflow\nModuleNotFoundError: No module named '_pywrap_tensorflow'\n\n\nFailed to load the native TensorFlow runtime.\n\nSee https://github.com/tensorflow/tensorflow/blob/master/tensorflow/g3doc/get_started/os_setup.md#import_error\n\nfor some common reasons and solutions.  Include the entire stack trace\nabove this error message when asking for help."
     ]
    }
   ],
   "source": [
    "import tensorflow as tf\n",
    "from tensorflow import keras"
   ]
  },
  {
   "cell_type": "code",
   "execution_count": 2,
   "metadata": {},
   "outputs": [],
   "source": [
    "import numpy as np\n",
    "import matplotlib.pyplot as plt\n",
    "from sklearn.preprocessing import StandardScaler"
   ]
  },
  {
   "cell_type": "code",
   "execution_count": 3,
   "metadata": {},
   "outputs": [],
   "source": [
    "(X_train, y_train), (X_test, y_test) = keras.datasets.mnist.load_data()"
   ]
  },
  {
   "cell_type": "code",
   "execution_count": 4,
   "metadata": {},
   "outputs": [
    {
     "data": {
      "text/plain": [
       "60000"
      ]
     },
     "execution_count": 4,
     "metadata": {},
     "output_type": "execute_result"
    }
   ],
   "source": [
    "len(X_train)"
   ]
  },
  {
   "cell_type": "code",
   "execution_count": 5,
   "metadata": {},
   "outputs": [
    {
     "data": {
      "text/plain": [
       "(28, 28)"
      ]
     },
     "execution_count": 5,
     "metadata": {},
     "output_type": "execute_result"
    }
   ],
   "source": [
    "X_train[0].shape"
   ]
  },
  {
   "cell_type": "code",
   "execution_count": 6,
   "metadata": {
    "scrolled": true
   },
   "outputs": [
    {
     "data": {
      "text/plain": [
       "array([[  0,   0,   0,   0,   0,   0,   0,   0,   0,   0,   0,   0,   0,\n",
       "          0,   0,   0,   0,   0,   0,   0,   0,   0,   0,   0,   0,   0,\n",
       "          0,   0],\n",
       "       [  0,   0,   0,   0,   0,   0,   0,   0,   0,   0,   0,   0,   0,\n",
       "          0,   0,   0,   0,   0,   0,   0,   0,   0,   0,   0,   0,   0,\n",
       "          0,   0],\n",
       "       [  0,   0,   0,   0,   0,   0,   0,   0,   0,   0,   0,   0,   0,\n",
       "          0,   0,   0,   0,   0,   0,   0,   0,   0,   0,   0,   0,   0,\n",
       "          0,   0],\n",
       "       [  0,   0,   0,   0,   0,   0,   0,   0,   0,   0,   0,   0,   0,\n",
       "          0,   0,   0,   0,   0,   0,   0,   0,   0,   0,   0,   0,   0,\n",
       "          0,   0],\n",
       "       [  0,   0,   0,   0,   0,   0,   0,   0,   0,   0,   0,   0,   0,\n",
       "          0,   0,   0,   0,   0,   0,   0,   0,   0,   0,   0,   0,   0,\n",
       "          0,   0],\n",
       "       [  0,   0,   0,   0,   0,   0,   0,   0,   0,   0,   0,   0,   3,\n",
       "         18,  18,  18, 126, 136, 175,  26, 166, 255, 247, 127,   0,   0,\n",
       "          0,   0],\n",
       "       [  0,   0,   0,   0,   0,   0,   0,   0,  30,  36,  94, 154, 170,\n",
       "        253, 253, 253, 253, 253, 225, 172, 253, 242, 195,  64,   0,   0,\n",
       "          0,   0],\n",
       "       [  0,   0,   0,   0,   0,   0,   0,  49, 238, 253, 253, 253, 253,\n",
       "        253, 253, 253, 253, 251,  93,  82,  82,  56,  39,   0,   0,   0,\n",
       "          0,   0],\n",
       "       [  0,   0,   0,   0,   0,   0,   0,  18, 219, 253, 253, 253, 253,\n",
       "        253, 198, 182, 247, 241,   0,   0,   0,   0,   0,   0,   0,   0,\n",
       "          0,   0],\n",
       "       [  0,   0,   0,   0,   0,   0,   0,   0,  80, 156, 107, 253, 253,\n",
       "        205,  11,   0,  43, 154,   0,   0,   0,   0,   0,   0,   0,   0,\n",
       "          0,   0],\n",
       "       [  0,   0,   0,   0,   0,   0,   0,   0,   0,  14,   1, 154, 253,\n",
       "         90,   0,   0,   0,   0,   0,   0,   0,   0,   0,   0,   0,   0,\n",
       "          0,   0],\n",
       "       [  0,   0,   0,   0,   0,   0,   0,   0,   0,   0,   0, 139, 253,\n",
       "        190,   2,   0,   0,   0,   0,   0,   0,   0,   0,   0,   0,   0,\n",
       "          0,   0],\n",
       "       [  0,   0,   0,   0,   0,   0,   0,   0,   0,   0,   0,  11, 190,\n",
       "        253,  70,   0,   0,   0,   0,   0,   0,   0,   0,   0,   0,   0,\n",
       "          0,   0],\n",
       "       [  0,   0,   0,   0,   0,   0,   0,   0,   0,   0,   0,   0,  35,\n",
       "        241, 225, 160, 108,   1,   0,   0,   0,   0,   0,   0,   0,   0,\n",
       "          0,   0],\n",
       "       [  0,   0,   0,   0,   0,   0,   0,   0,   0,   0,   0,   0,   0,\n",
       "         81, 240, 253, 253, 119,  25,   0,   0,   0,   0,   0,   0,   0,\n",
       "          0,   0],\n",
       "       [  0,   0,   0,   0,   0,   0,   0,   0,   0,   0,   0,   0,   0,\n",
       "          0,  45, 186, 253, 253, 150,  27,   0,   0,   0,   0,   0,   0,\n",
       "          0,   0],\n",
       "       [  0,   0,   0,   0,   0,   0,   0,   0,   0,   0,   0,   0,   0,\n",
       "          0,   0,  16,  93, 252, 253, 187,   0,   0,   0,   0,   0,   0,\n",
       "          0,   0],\n",
       "       [  0,   0,   0,   0,   0,   0,   0,   0,   0,   0,   0,   0,   0,\n",
       "          0,   0,   0,   0, 249, 253, 249,  64,   0,   0,   0,   0,   0,\n",
       "          0,   0],\n",
       "       [  0,   0,   0,   0,   0,   0,   0,   0,   0,   0,   0,   0,   0,\n",
       "          0,  46, 130, 183, 253, 253, 207,   2,   0,   0,   0,   0,   0,\n",
       "          0,   0],\n",
       "       [  0,   0,   0,   0,   0,   0,   0,   0,   0,   0,   0,   0,  39,\n",
       "        148, 229, 253, 253, 253, 250, 182,   0,   0,   0,   0,   0,   0,\n",
       "          0,   0],\n",
       "       [  0,   0,   0,   0,   0,   0,   0,   0,   0,   0,  24, 114, 221,\n",
       "        253, 253, 253, 253, 201,  78,   0,   0,   0,   0,   0,   0,   0,\n",
       "          0,   0],\n",
       "       [  0,   0,   0,   0,   0,   0,   0,   0,  23,  66, 213, 253, 253,\n",
       "        253, 253, 198,  81,   2,   0,   0,   0,   0,   0,   0,   0,   0,\n",
       "          0,   0],\n",
       "       [  0,   0,   0,   0,   0,   0,  18, 171, 219, 253, 253, 253, 253,\n",
       "        195,  80,   9,   0,   0,   0,   0,   0,   0,   0,   0,   0,   0,\n",
       "          0,   0],\n",
       "       [  0,   0,   0,   0,  55, 172, 226, 253, 253, 253, 253, 244, 133,\n",
       "         11,   0,   0,   0,   0,   0,   0,   0,   0,   0,   0,   0,   0,\n",
       "          0,   0],\n",
       "       [  0,   0,   0,   0, 136, 253, 253, 253, 212, 135, 132,  16,   0,\n",
       "          0,   0,   0,   0,   0,   0,   0,   0,   0,   0,   0,   0,   0,\n",
       "          0,   0],\n",
       "       [  0,   0,   0,   0,   0,   0,   0,   0,   0,   0,   0,   0,   0,\n",
       "          0,   0,   0,   0,   0,   0,   0,   0,   0,   0,   0,   0,   0,\n",
       "          0,   0],\n",
       "       [  0,   0,   0,   0,   0,   0,   0,   0,   0,   0,   0,   0,   0,\n",
       "          0,   0,   0,   0,   0,   0,   0,   0,   0,   0,   0,   0,   0,\n",
       "          0,   0],\n",
       "       [  0,   0,   0,   0,   0,   0,   0,   0,   0,   0,   0,   0,   0,\n",
       "          0,   0,   0,   0,   0,   0,   0,   0,   0,   0,   0,   0,   0,\n",
       "          0,   0]], dtype=uint8)"
      ]
     },
     "execution_count": 6,
     "metadata": {},
     "output_type": "execute_result"
    }
   ],
   "source": [
    "X_train[0]"
   ]
  },
  {
   "cell_type": "code",
   "execution_count": 7,
   "metadata": {},
   "outputs": [
    {
     "data": {
      "text/plain": [
       "5"
      ]
     },
     "execution_count": 7,
     "metadata": {},
     "output_type": "execute_result"
    }
   ],
   "source": [
    "y_train[0]"
   ]
  },
  {
   "cell_type": "code",
   "execution_count": 8,
   "metadata": {},
   "outputs": [
    {
     "data": {
      "text/plain": [
       "<matplotlib.image.AxesImage at 0x2313caa3310>"
      ]
     },
     "execution_count": 8,
     "metadata": {},
     "output_type": "execute_result"
    },
    {
     "data": {
      "image/png": "[encoded data removed]",
      "text/plain": [
       "<Figure size 288x288 with 1 Axes>"
      ]
     },
     "metadata": {
      "needs_background": "light"
     },
     "output_type": "display_data"
    }
   ],
   "source": [
    "plt.matshow(X_train[0])"
   ]
  },
  {
   "cell_type": "code",
   "execution_count": 9,
   "metadata": {},
   "outputs": [
    {
     "data": {
      "text/plain": [
       "(60000, 28, 28)"
      ]
     },
     "execution_count": 9,
     "metadata": {},
     "output_type": "execute_result"
    }
   ],
   "source": [
    "X_train.shape"
   ]
  },
  {
   "cell_type": "code",
   "execution_count": 10,
   "metadata": {},
   "outputs": [],
   "source": [
    "X_train_inp = X_train.reshape(len(X_train), 28*28)\n",
    "X_test_inp = X_test.reshape(len(X_test), 28*28)"
   ]
  },
  {
   "cell_type": "code",
   "execution_count": 11,
   "metadata": {},
   "outputs": [],
   "source": [
    "scaler = StandardScaler()"
   ]
  },
  {
   "cell_type": "code",
   "execution_count": 12,
   "metadata": {},
   "outputs": [],
   "source": [
    "X_train_input = scaler.fit_transform(X_train_inp)\n",
    "X_test_input = scaler.fit_transform(X_test_inp)"
   ]
  },
  {
   "cell_type": "code",
   "execution_count": 13,
   "metadata": {},
   "outputs": [],
   "source": [
    "# X_train = X_train_input.copy()\n",
    "# X_test = X_test_input.copy()"
   ]
  },
  {
   "cell_type": "code",
   "execution_count": 14,
   "metadata": {},
   "outputs": [
    {
     "data": {
      "text/plain": [
       "(60000, 784)"
      ]
     },
     "execution_count": 14,
     "metadata": {},
     "output_type": "execute_result"
    }
   ],
   "source": [
    "X_train_input.shape"
   ]
  },
  {
   "cell_type": "code",
   "execution_count": 15,
   "metadata": {},
   "outputs": [
    {
     "data": {
      "text/plain": [
       "(10000, 784)"
      ]
     },
     "execution_count": 15,
     "metadata": {},
     "output_type": "execute_result"
    }
   ],
   "source": [
    "X_test_input.shape"
   ]
  },
  {
   "cell_type": "code",
   "execution_count": 16,
   "metadata": {
    "scrolled": true
   },
   "outputs": [
    {
     "data": {
      "text/plain": [
       "array([ 0.00000000e+00,  0.00000000e+00,  0.00000000e+00,  0.00000000e+00,\n",
       "        0.00000000e+00,  0.00000000e+00,  0.00000000e+00,  0.00000000e+00,\n",
       "        0.00000000e+00,  0.00000000e+00,  0.00000000e+00,  0.00000000e+00,\n",
       "       -4.41807799e-03, -5.75481961e-03, -4.08251693e-03, -4.08251693e-03,\n",
       "        0.00000000e+00,  0.00000000e+00,  0.00000000e+00,  0.00000000e+00,\n",
       "        0.00000000e+00,  0.00000000e+00,  0.00000000e+00,  0.00000000e+00,\n",
       "        0.00000000e+00,  0.00000000e+00,  0.00000000e+00,  0.00000000e+00,\n",
       "        0.00000000e+00,  0.00000000e+00,  0.00000000e+00,  0.00000000e+00,\n",
       "       -4.08251693e-03, -4.70968827e-03, -8.79934640e-03, -1.15905591e-02,\n",
       "       -1.47589798e-02, -1.92848546e-02, -2.46717975e-02, -2.90710271e-02,\n",
       "       -3.05926583e-02, -3.11640127e-02, -3.19628719e-02, -3.02025355e-02,\n",
       "       -3.13102175e-02, -2.83833960e-02, -2.31191906e-02, -1.91666260e-02,\n",
       "       -1.67723008e-02, -1.09963601e-02, -8.32486080e-03, -4.38069356e-03,\n",
       "        0.00000000e+00,  0.00000000e+00,  0.00000000e+00,  0.00000000e+00,\n",
       "        0.00000000e+00,  0.00000000e+00, -4.08251693e-03, -5.39534598e-03,\n",
       "       -8.52241235e-03, -1.19850363e-02, -1.76534777e-02, -2.77108989e-02,\n",
       "       -3.70200943e-02, -5.21512802e-02, -6.70362007e-02, -8.30170484e-02,\n",
       "       -9.93792978e-02, -1.15184128e-01, -1.29133256e-01, -1.38394677e-01,\n",
       "       -1.38883631e-01, -1.31843438e-01, -1.20429522e-01, -1.01890795e-01,\n",
       "       -7.86049044e-02, -5.69956130e-02, -3.96576839e-02, -2.37283861e-02,\n",
       "       -1.40883463e-02, -7.83084068e-03,  0.00000000e+00,  0.00000000e+00,\n",
       "        0.00000000e+00,  0.00000000e+00, -5.36837753e-03, -8.87060589e-03,\n",
       "       -1.40708170e-02, -2.21468098e-02, -3.51801368e-02, -5.50236802e-02,\n",
       "       -7.90961321e-02, -1.07649012e-01, -1.37169936e-01, -1.67105761e-01,\n",
       "       -1.96008755e-01, -2.24491114e-01, -2.48655991e-01, -2.62117971e-01,\n",
       "       -2.62596902e-01, -2.47855903e-01, -2.21947003e-01, -1.87211405e-01,\n",
       "       -1.47640132e-01, -1.08164364e-01, -7.68121117e-02, -4.70752996e-02,\n",
       "       -3.02019676e-02, -1.52412436e-02, -5.28371965e-03,  0.00000000e+00,\n",
       "        0.00000000e+00, -4.08251693e-03, -7.76342302e-03, -1.48932548e-02,\n",
       "       -2.39627505e-02, -5.03408980e-02, -7.87674703e-02, -1.16181540e-01,\n",
       "       -1.61247562e-01, -2.11961635e-01, -2.66898731e-01, -3.25678010e-01,\n",
       "       -3.90241548e-01, -4.52076376e-01, -4.99397984e-01, -5.23428324e-01,\n",
       "       -5.17618894e-01, -4.80902419e-01, -4.23079694e-01, -3.56740395e-01,\n",
       "       -2.83683648e-01, -2.16836661e-01, -1.58524380e-01, -1.08784581e-01,\n",
       "       -7.09225309e-02, -3.89534819e-02, -1.42523852e-02, -5.77049806e-03,\n",
       "        0.00000000e+00,  0.00000000e+00, -1.19017406e-02, -2.20501560e-02,\n",
       "       -5.18380750e-02, -9.06597035e-02, -1.39667106e-01, -1.97082121e-01,\n",
       "       -2.64384728e-01, -3.40730442e-01, -4.22535749e-01, -5.15408649e-01,\n",
       "       -5.84660366e-01, -5.41363044e-01, -6.26156785e-01, -6.69145031e-01,\n",
       "        3.43637162e-01,  5.31056017e-01,  1.10236573e+00, -2.65802578e-01,\n",
       "        1.71565971e+00,  3.77344822e+00,  4.93900230e+00,  3.45006811e+00,\n",
       "       -1.31080130e-01, -7.48460374e-02, -3.19301291e-02, -8.20891834e-03,\n",
       "        0.00000000e+00, -5.57015293e-03, -1.56619271e-02, -3.63656606e-02,\n",
       "       -7.90243079e-02, -1.33289086e-01, -1.99154411e-01, -2.75429691e-01,\n",
       "        8.82421166e-02, -1.60018965e-02,  4.42476487e-01,  8.18775057e-01,\n",
       "        7.49339511e-01,  1.32200212e+00,  1.19900231e+00,  1.14748071e+00,\n",
       "        1.16876765e+00,  1.25693737e+00,  1.17313576e+00,  9.33441548e-01,\n",
       "        2.13777179e+00,  2.64653072e+00,  2.81275280e+00,  1.14339095e+00,\n",
       "       -1.72939702e-01, -1.04104240e-01, -4.83176220e-02, -1.47080183e-02,\n",
       "       -4.08251693e-03, -1.32310093e-02, -2.62438209e-02, -5.91585908e-02,\n",
       "       -1.13004853e-01, -1.78441525e-01, -2.58004810e-01,  4.14936751e-01,\n",
       "        2.55139991e+00,  2.15784271e+00,  1.76151117e+00,  1.47855282e+00,\n",
       "        1.28620376e+00,  1.15934214e+00,  1.08883060e+00,  1.06792169e+00,\n",
       "        1.08561216e+00,  1.12333034e+00, -1.85138147e-01, -1.08110686e-01,\n",
       "        1.20942182e-01,  1.04310652e-01,  1.53347815e-01, -2.87681279e-01,\n",
       "       -1.97007025e-01, -1.21228940e-01, -5.68086109e-02, -1.53906680e-02,\n",
       "       -5.02549298e-03, -1.73205192e-02, -4.30805391e-02, -8.52488969e-02,\n",
       "       -1.39458369e-01, -2.10883308e-01, -3.00017977e-01, -1.59588571e-01,\n",
       "        1.95384078e+00,  1.84773395e+00,  1.51729633e+00,  1.30892138e+00,\n",
       "        1.20210616e+00,  1.16376234e+00,  6.74199715e-01,  5.38435658e-01,\n",
       "        1.12192712e+00,  1.07058610e+00, -1.04378667e+00, -9.12978504e-01,\n",
       "       -7.39191314e-01, -5.71005505e-01, -4.23671002e-01, -2.98196207e-01,\n",
       "       -1.97686135e-01, -1.20683815e-01, -5.39356285e-02, -1.35055434e-02,\n",
       "       -5.90571261e-03, -2.11096679e-02, -5.29890369e-02, -9.30784924e-02,\n",
       "       -1.50398734e-01, -2.26191023e-01, -3.23645340e-01, -4.42131217e-01,\n",
       "        2.70213751e-01,  7.45930827e-01,  7.23832933e-02,  1.27771203e+00,\n",
       "        1.27734539e+00,  9.12254680e-01, -8.07963349e-01, -9.13935971e-01,\n",
       "       -5.60996653e-01,  3.90063789e-01, -9.99486551e-01, -9.01508612e-01,\n",
       "       -7.36681516e-01, -5.67589421e-01, -4.20171899e-01, -2.90174595e-01,\n",
       "       -1.81482351e-01, -1.04939775e-01, -4.72131729e-02, -1.41308656e-02,\n",
       "       -5.77280519e-03, -2.26322771e-02, -5.28031747e-02, -9.22058067e-02,\n",
       "       -1.47451700e-01, -2.27284588e-01, -3.32428316e-01, -4.62696158e-01,\n",
       "       -6.19033521e-01, -6.52626518e-01, -8.99148251e-01,  4.58886633e-01,\n",
       "        1.47356894e+00,  6.77134887e-02, -7.71412102e-01, -8.03560093e-01,\n",
       "       -8.73939297e-01, -9.51575414e-01, -9.62131065e-01, -8.63473259e-01,\n",
       "       -7.01324246e-01, -5.37396564e-01, -3.96771027e-01, -2.71222642e-01,\n",
       "       -1.59324464e-01, -8.12584087e-02, -3.69508670e-02, -1.18733992e-02,\n",
       "       -7.05517396e-03, -2.07711768e-02, -4.72035624e-02, -8.20038362e-02,\n",
       "       -1.37457285e-01, -2.25181955e-01, -3.38492381e-01, -4.82934997e-01,\n",
       "       -6.48288219e-01, -8.09805311e-01, -8.96460461e-01,  4.05564687e-01,\n",
       "        1.64634567e+00,  1.16516320e+00, -7.21489008e-01, -8.02210470e-01,\n",
       "       -9.01262815e-01, -9.77722928e-01, -9.55547943e-01, -8.24902899e-01,\n",
       "       -6.55987835e-01, -4.99364187e-01, -3.69573309e-01, -2.58464407e-01,\n",
       "       -1.49695715e-01, -6.11113564e-02, -2.80115688e-02, -9.12509965e-03,\n",
       "       -5.30435130e-03, -1.62383999e-02, -3.63786148e-02, -6.85820105e-02,\n",
       "       -1.27368499e-01, -2.26143360e-01, -3.52202906e-01, -5.07583513e-01,\n",
       "       -6.79449640e-01, -8.28251048e-01, -8.88830036e-01, -7.40225109e-01,\n",
       "        1.06068287e+00,  1.68492907e+00, -1.77575688e-01, -9.17683490e-01,\n",
       "       -1.02909594e+00, -1.05827900e+00, -9.65674043e-01, -7.94476763e-01,\n",
       "       -6.16749363e-01, -4.70072884e-01, -3.55124414e-01, -2.55407545e-01,\n",
       "       -1.53824513e-01, -5.24542821e-02, -2.15058651e-02, -9.92198161e-03,\n",
       "       -4.08251693e-03, -1.09343854e-02, -2.55447979e-02, -5.70730810e-02,\n",
       "       -1.24662020e-01, -2.38498173e-01, -3.73258897e-01, -5.33136068e-01,\n",
       "       -7.02094140e-01, -8.37450050e-01, -8.80074249e-01, -8.41014273e-01,\n",
       "       -4.87694929e-01,  1.32485786e+00,  9.98375471e-01,  3.22814268e-01,\n",
       "       -1.98337189e-01, -1.11994100e+00, -9.76070413e-01, -7.75195395e-01,\n",
       "       -5.94446605e-01, -4.60910238e-01, -3.55500546e-01, -2.63549180e-01,\n",
       "       -1.64503687e-01, -5.95130325e-02, -2.33686679e-02, -7.40432376e-03,\n",
       "       -4.08251693e-03, -7.98834543e-03, -1.82964530e-02, -5.13394345e-02,\n",
       "       -1.29346397e-01, -2.57521393e-01, -3.95011330e-01, -5.50421723e-01,\n",
       "       -7.07323088e-01, -8.26049817e-01, -8.67853151e-01, -8.60743722e-01,\n",
       "       -9.04035680e-01, -3.08572618e-01,  9.64876914e-01,  1.03583353e+00,\n",
       "        1.05517267e+00, -8.08498334e-02, -7.38205686e-01, -7.63011316e-01,\n",
       "       -5.97027040e-01, -4.72019989e-01, -3.68370412e-01, -2.73325316e-01,\n",
       "       -1.73386634e-01, -6.89427199e-02, -2.46446573e-02, -6.98490193e-03,\n",
       "       -4.77028006e-03, -4.18942802e-03, -1.86482564e-02, -5.32721237e-02,\n",
       "       -1.40420517e-01, -2.77180624e-01, -4.12209008e-01, -5.54003398e-01,\n",
       "       -6.92005443e-01, -7.92583140e-01, -8.41940836e-01, -8.69766983e-01,\n",
       "       -9.58664347e-01, -1.09410266e+00, -8.05303712e-01,  4.28897581e-01,\n",
       "        1.08836286e+00,  1.16827871e+00,  4.42989478e-01, -4.93267386e-01,\n",
       "       -6.09787183e-01, -4.86753939e-01, -3.80896777e-01, -2.78298890e-01,\n",
       "       -1.75491552e-01, -7.70261425e-02, -2.96263040e-02, -9.11024024e-03,\n",
       "       -4.08251693e-03, -6.70727737e-03, -2.16014323e-02, -6.07076923e-02,\n",
       "       -1.57022412e-01, -2.97163168e-01, -4.22306798e-01, -5.45726707e-01,\n",
       "       -6.59100289e-01, -7.41250552e-01, -7.88379565e-01, -8.33967293e-01,\n",
       "       -9.19413398e-01, -1.02595562e+00, -1.12277551e+00, -1.00128625e+00,\n",
       "       -2.50181723e-01,  1.26567434e+00,  1.45264065e+00,  1.05397980e+00,\n",
       "       -6.15621643e-01, -4.93079765e-01, -3.79874281e-01, -2.73517649e-01,\n",
       "       -1.73539121e-01, -8.40501482e-02, -3.41624422e-02, -8.93964748e-03,\n",
       "        0.00000000e+00, -8.93208845e-03, -2.53977634e-02, -7.39001757e-02,\n",
       "       -1.77860047e-01, -3.13383430e-01, -4.29013061e-01, -5.35088936e-01,\n",
       "       -6.20781988e-01, -6.82689238e-01, -7.23470137e-01, -7.65558979e-01,\n",
       "       -8.25070425e-01, -9.19390235e-01, -1.00626013e+00, -1.03281505e+00,\n",
       "       -1.01067269e+00,  1.31519954e+00,  1.48115098e+00,  1.64560188e+00,\n",
       "        4.82880931e-02, -4.85156292e-01, -3.68041978e-01, -2.60781824e-01,\n",
       "       -1.68333757e-01, -8.85426370e-02, -3.59362339e-02, -1.07108129e-02,\n",
       "       -5.90596678e-03, -6.35211414e-03, -3.33202141e-02, -9.13048630e-02,\n",
       "       -1.99108031e-01, -3.27967412e-01, -4.38995427e-01, -5.34454088e-01,\n",
       "       -6.05947897e-01, -6.59405094e-01, -6.97848366e-01, -7.30422894e-01,\n",
       "       -7.81125667e-01, -8.71688552e-01, -5.44696352e-01,  1.60415053e-01,\n",
       "        6.50220851e-01,  1.34279902e+00,  1.46193998e+00,  1.24594172e+00,\n",
       "       -5.73926496e-01, -4.63429150e-01, -3.48771144e-01, -2.45884747e-01,\n",
       "       -1.58200936e-01, -8.54379627e-02, -3.15579616e-02, -9.76041412e-03,\n",
       "       -4.08251693e-03, -1.12816627e-02, -3.97571016e-02, -1.03852335e-01,\n",
       "       -2.11980971e-01, -3.37477889e-01, -4.51701933e-01, -5.52131610e-01,\n",
       "       -6.31886475e-01, -6.93224391e-01, -7.38384900e-01, -7.70730767e-01,\n",
       "       -4.69506063e-01,  4.22382973e-01,  1.04567034e+00,  1.21745436e+00,\n",
       "        1.23935680e+00,  1.31032797e+00,  1.44686109e+00,  1.07419019e+00,\n",
       "       -5.55385654e-01, -4.27074606e-01, -3.16810480e-01, -2.20685803e-01,\n",
       "       -1.41057264e-01, -7.81710423e-02, -2.91825785e-02, -8.02578597e-03,\n",
       "        0.00000000e+00, -1.03421049e-02, -4.32736220e-02, -1.09167014e-01,\n",
       "       -2.09032573e-01, -3.30224641e-01, -4.54875266e-01, -5.69196807e-01,\n",
       "       -6.72943600e-01, -7.60601226e-01, -6.08747781e-01,  1.45933875e-01,\n",
       "        1.02756383e+00,  1.21554325e+00,  1.14867049e+00,  1.14592402e+00,\n",
       "        1.21167774e+00,  8.79504318e-01, -5.51616072e-02, -6.26990956e-01,\n",
       "       -4.88062775e-01, -3.68951144e-01, -2.69292226e-01, -1.87212623e-01,\n",
       "       -1.21627434e-01, -6.64938197e-02, -2.60330031e-02, -5.77331594e-03,\n",
       "       -4.08251693e-03, -1.00095035e-02, -4.04987315e-02, -9.99847079e-02,\n",
       "       -1.88201724e-01, -2.99631312e-01, -4.27248469e-01, -5.55251360e-01,\n",
       "       -4.59112688e-01, -1.95242950e-01,  1.00790158e+00,  1.26095332e+00,\n",
       "        1.17394853e+00,  1.11115667e+00,  1.09552493e+00,  6.59061964e-01,\n",
       "       -2.62412945e-01, -8.13628297e-01, -6.67125990e-01, -5.22694492e-01,\n",
       "       -3.99065428e-01, -2.96700643e-01, -2.12626224e-01, -1.48693958e-01,\n",
       "       -9.68957284e-02, -5.09310889e-02, -2.02144293e-02, -4.08251693e-03,\n",
       "       -4.08251693e-03, -6.00490574e-03, -3.37063471e-02, -7.89724505e-02,\n",
       "       -1.47741377e-01, -2.43250250e-01, -8.30458387e-02,  1.56042653e+00,\n",
       "        1.61327333e+00,  1.60667106e+00,  1.37992544e+00,  1.23963346e+00,\n",
       "        1.16030302e+00,  6.21560395e-01, -3.61925123e-01, -8.82206990e-01,\n",
       "       -8.17668173e-01, -6.64655910e-01, -5.23595080e-01, -4.02142028e-01,\n",
       "       -3.03069160e-01, -2.21680844e-01, -1.59365935e-01, -1.10060699e-01,\n",
       "       -7.00397650e-02, -3.71356228e-02, -1.22014099e-02, -4.08251693e-03,\n",
       "        0.00000000e+00,  0.00000000e+00, -2.27387266e-02, -5.19053972e-02,\n",
       "        3.07386858e+00,  5.60859323e+00,  4.62960950e+00,  3.53861155e+00,\n",
       "        2.59001419e+00,  2.02823973e+00,  1.68064378e+00,  1.39229082e+00,\n",
       "        3.01200685e-01, -7.99993648e-01, -8.39748579e-01, -7.34655534e-01,\n",
       "       -6.12575711e-01, -4.92071188e-01, -3.79928167e-01, -2.88817393e-01,\n",
       "       -2.13440937e-01, -1.53667782e-01, -1.09126008e-01, -7.40987562e-02,\n",
       "       -4.33171851e-02, -1.93437920e-02, -1.04024820e-02,  0.00000000e+00,\n",
       "        0.00000000e+00,  0.00000000e+00, -1.03527008e-02, -2.87501024e-02,\n",
       "        1.43442321e+01,  1.49676659e+01,  9.09224842e+00,  5.95866001e+00,\n",
       "        3.52099754e+00,  1.54840932e+00,  1.15868445e+00, -3.51803603e-01,\n",
       "       -5.66505989e-01, -5.62783656e-01, -5.27164696e-01, -4.68057397e-01,\n",
       "       -3.95805045e-01, -3.24789446e-01, -2.55705032e-01, -1.94611712e-01,\n",
       "       -1.44574205e-01, -1.01773543e-01, -7.14252227e-02, -4.77777569e-02,\n",
       "       -2.57524359e-02, -1.13794237e-02, -4.75287492e-03,  0.00000000e+00,\n",
       "        0.00000000e+00,  0.00000000e+00, -6.66430111e-03, -1.09642132e-02,\n",
       "       -2.76044516e-02, -5.15536012e-02, -8.67718458e-02, -1.28392033e-01,\n",
       "       -1.75775898e-01, -2.23054438e-01, -2.66640286e-01, -2.94844315e-01,\n",
       "       -3.07505433e-01, -3.05180122e-01, -2.89231779e-01, -2.63231291e-01,\n",
       "       -2.33723589e-01, -2.01027824e-01, -1.63691052e-01, -1.27665996e-01,\n",
       "       -9.39651393e-02, -6.56832591e-02, -4.59265310e-02, -2.87188097e-02,\n",
       "       -1.56930365e-02, -5.67530616e-03, -4.08251693e-03,  0.00000000e+00,\n",
       "        0.00000000e+00,  0.00000000e+00,  0.00000000e+00, -4.08251693e-03,\n",
       "       -1.51213939e-02, -3.13695545e-02, -5.33302349e-02, -7.92282669e-02,\n",
       "       -1.08376650e-01, -1.33979068e-01, -1.57513181e-01, -1.75105513e-01,\n",
       "       -1.82626897e-01, -1.80535341e-01, -1.69876491e-01, -1.53157314e-01,\n",
       "       -1.35433124e-01, -1.16480299e-01, -9.39512541e-02, -7.25768871e-02,\n",
       "       -5.23643597e-02, -3.63829995e-02, -2.15030637e-02, -1.30192791e-02,\n",
       "       -4.49421517e-03, -4.08251693e-03,  0.00000000e+00,  0.00000000e+00,\n",
       "        0.00000000e+00,  0.00000000e+00,  0.00000000e+00,  0.00000000e+00,\n",
       "       -5.79016363e-03, -9.05384592e-03, -1.60054430e-02, -2.21197601e-02,\n",
       "       -2.68459958e-02, -3.18450632e-02, -4.37484087e-02, -4.72829474e-02,\n",
       "       -5.31388046e-02, -5.66228194e-02, -6.03383556e-02, -5.62950014e-02,\n",
       "       -5.13665378e-02, -4.26322798e-02, -3.31710271e-02, -2.24628830e-02,\n",
       "       -1.60690870e-02, -1.14322028e-02, -9.00729450e-03, -5.77039393e-03,\n",
       "        0.00000000e+00,  0.00000000e+00,  0.00000000e+00,  0.00000000e+00])"
      ]
     },
     "execution_count": 16,
     "metadata": {},
     "output_type": "execute_result"
    }
   ],
   "source": [
    "X_train_input[0]"
   ]
  },
  {
   "cell_type": "code",
   "execution_count": 17,
   "metadata": {},
   "outputs": [
    {
     "name": "stdout",
     "output_type": "stream",
     "text": [
      "Epoch 1/10\n",
      "1875/1875 [==============================] - 1s 688us/step - loss: 1.0029 - accuracy: 0.7671\n",
      "Epoch 2/10\n",
      "1875/1875 [==============================] - 1s 658us/step - loss: 0.6096 - accuracy: 0.8220\n",
      "Epoch 3/10\n",
      "1875/1875 [==============================] - 1s 635us/step - loss: 0.4932 - accuracy: 0.8421\n",
      "Epoch 4/10\n",
      "1875/1875 [==============================] - 1s 653us/step - loss: 0.4396 - accuracy: 0.8535\n",
      "Epoch 5/10\n",
      "1875/1875 [==============================] - 1s 635us/step - loss: 0.4115 - accuracy: 0.8621\n",
      "Epoch 6/10\n",
      "1875/1875 [==============================] - 1s 736us/step - loss: 0.3927 - accuracy: 0.8677\n",
      "Epoch 7/10\n",
      "1875/1875 [==============================] - 1s 640us/step - loss: 0.3792 - accuracy: 0.8720\n",
      "Epoch 8/10\n",
      "1875/1875 [==============================] - 1s 656us/step - loss: 0.3684 - accuracy: 0.8755\n",
      "Epoch 9/10\n",
      "1875/1875 [==============================] - 1s 634us/step - loss: 0.3598 - accuracy: 0.8786\n",
      "Epoch 10/10\n",
      "1875/1875 [==============================] - 1s 640us/step - loss: 0.3520 - accuracy: 0.8816\n"
     ]
    },
    {
     "data": {
      "text/plain": [
       "<tensorflow.python.keras.callbacks.History at 0x231625a1e50>"
      ]
     },
     "execution_count": 17,
     "metadata": {},
     "output_type": "execute_result"
    }
   ],
   "source": [
    "model = keras.Sequential([\n",
    "    keras.layers.Dense(10, input_shape=(784, ), activation='sigmoid')\n",
    "])\n",
    "\n",
    "model.compile(optimizer='adam',\n",
    "              loss='sparse_categorical_crossentropy',\n",
    "              metrics=['accuracy'])\n",
    "\n",
    "model.fit(X_train_input, y_train, epochs=10)"
   ]
  },
  {
   "cell_type": "code",
   "execution_count": 18,
   "metadata": {},
   "outputs": [
    {
     "name": "stdout",
     "output_type": "stream",
     "text": [
      "313/313 [==============================] - 0s 473us/step - loss: 0.3856 - accuracy: 0.8828\n"
     ]
    },
    {
     "data": {
      "text/plain": [
       "[0.3855956196784973, 0.8827999830245972]"
      ]
     },
     "execution_count": 18,
     "metadata": {},
     "output_type": "execute_result"
    }
   ],
   "source": [
    "model.evaluate(X_test_input, y_test)"
   ]
  },
  {
   "cell_type": "code",
   "execution_count": 19,
   "metadata": {},
   "outputs": [],
   "source": [
    "prdiction = model.predict(X_test_input)"
   ]
  },
  {
   "cell_type": "code",
   "execution_count": 20,
   "metadata": {},
   "outputs": [
    {
     "data": {
      "text/plain": [
       "<matplotlib.image.AxesImage at 0x23167727cd0>"
      ]
     },
     "execution_count": 20,
     "metadata": {},
     "output_type": "execute_result"
    },
    {
     "data": {
      "image/png": "[encoded data removed]",
      "text/plain": [
       "<Figure size 288x288 with 1 Axes>"
      ]
     },
     "metadata": {
      "needs_background": "light"
     },
     "output_type": "display_data"
    }
   ],
   "source": [
    "plt.matshow(X_test[0])"
   ]
  },
  {
   "cell_type": "code",
   "execution_count": 21,
   "metadata": {},
   "outputs": [
    {
     "data": {
      "text/plain": [
       "array([4.8056259e-05, 4.0125787e-09, 4.0268898e-04, 1.0781169e-02,\n",
       "       2.3707099e-08, 2.5325391e-05, 4.6945544e-07, 9.3192399e-01,\n",
       "       1.6008515e-05, 3.0180812e-04], dtype=float32)"
      ]
     },
     "execution_count": 21,
     "metadata": {},
     "output_type": "execute_result"
    }
   ],
   "source": [
    "prdiction[0]"
   ]
  },
  {
   "cell_type": "code",
   "execution_count": 22,
   "metadata": {},
   "outputs": [
    {
     "data": {
      "text/plain": [
       "7"
      ]
     },
     "execution_count": 22,
     "metadata": {},
     "output_type": "execute_result"
    }
   ],
   "source": [
    "np.argmax(prdiction[0])"
   ]
  },
  {
   "cell_type": "code",
   "execution_count": 23,
   "metadata": {},
   "outputs": [
    {
     "data": {
      "text/plain": [
       "[7, 2, 1, 0, 4]"
      ]
     },
     "execution_count": 23,
     "metadata": {},
     "output_type": "execute_result"
    }
   ],
   "source": [
    "prediction_label = [np.argmax(i) for i in prdiction]\n",
    "prediction_label[:5]"
   ]
  },
  {
   "cell_type": "code",
   "execution_count": 24,
   "metadata": {},
   "outputs": [
    {
     "data": {
      "text/plain": [
       "array([7, 2, 1, 0, 4], dtype=uint8)"
      ]
     },
     "execution_count": 24,
     "metadata": {},
     "output_type": "execute_result"
    }
   ],
   "source": [
    "y_test[:5]"
   ]
  },
  {
   "cell_type": "code",
   "execution_count": 25,
   "metadata": {},
   "outputs": [
    {
     "data": {
      "text/plain": [
       "<tf.Tensor: shape=(10, 10), dtype=int32, numpy=\n",
       "array([[ 953,    1,    6,    1,    3,    6,    3,    5,    1,    1],\n",
       "       [   0, 1107,    4,    1,    3,    1,    5,    2,   12,    0],\n",
       "       [  42,   15,  908,    9,   15,    3,   17,    5,   18,    0],\n",
       "       [  38,   33,   25,  836,    4,   32,    3,   10,   17,   12],\n",
       "       [  20,   11,   11,    1,  903,    2,    3,    2,    4,   25],\n",
       "       [  23,    8,    7,   25,   14,  765,   11,    8,   25,    6],\n",
       "       [  44,    7,   22,    1,   12,   16,  853,    1,    2,    0],\n",
       "       [  72,   38,   24,    9,   12,    1,    0,  834,    1,   37],\n",
       "       [  22,   16,   12,   22,   13,   36,    9,   15,  818,   11],\n",
       "       [  30,   21,    4,    7,   52,    5,    1,   32,    6,  851]])>"
      ]
     },
     "execution_count": 25,
     "metadata": {},
     "output_type": "execute_result"
    }
   ],
   "source": [
    "cm = tf.math.confusion_matrix(y_test, prediction_label)\n",
    "cm"
   ]
  },
  {
   "cell_type": "code",
   "execution_count": 26,
   "metadata": {},
   "outputs": [],
   "source": [
    "import seaborn as sns"
   ]
  },
  {
   "cell_type": "code",
   "execution_count": 27,
   "metadata": {},
   "outputs": [
    {
     "data": {
      "text/plain": [
       "<AxesSubplot:>"
      ]
     },
     "execution_count": 27,
     "metadata": {},
     "output_type": "execute_result"
    },
    {
     "data": {
      "image/png": "[encoded data removed]",
      "text/plain": [
       "<Figure size 720x504 with 2 Axes>"
      ]
     },
     "metadata": {
      "needs_background": "light"
     },
     "output_type": "display_data"
    }
   ],
   "source": [
    "plt.figure(figsize=(10,7))\n",
    "sns.heatmap(cm, annot=True, fmt='d')"
   ]
  },
  {
   "cell_type": "code",
   "execution_count": 28,
   "metadata": {},
   "outputs": [
    {
     "name": "stdout",
     "output_type": "stream",
     "text": [
      "Epoch 1/10\n",
      "1875/1875 [==============================] - 3s 1ms/step - loss: 0.2302 - accuracy: 0.9359\n",
      "Epoch 2/10\n",
      "1875/1875 [==============================] - 3s 1ms/step - loss: 0.1041 - accuracy: 0.9692\n",
      "Epoch 3/10\n",
      "1875/1875 [==============================] - 2s 1ms/step - loss: 0.0729 - accuracy: 0.9779\n",
      "Epoch 4/10\n",
      "1875/1875 [==============================] - 2s 1ms/step - loss: 0.0630 - accuracy: 0.9820\n",
      "Epoch 5/10\n",
      "1875/1875 [==============================] - 2s 1ms/step - loss: 0.0505 - accuracy: 0.9853\n",
      "Epoch 6/10\n",
      "1875/1875 [==============================] - 2s 1ms/step - loss: 0.0434 - accuracy: 0.9875\n",
      "Epoch 7/10\n",
      "1875/1875 [==============================] - 2s 1ms/step - loss: 0.0361 - accuracy: 0.9896\n",
      "Epoch 8/10\n",
      "1875/1875 [==============================] - 2s 1ms/step - loss: 0.0325 - accuracy: 0.9907\n",
      "Epoch 9/10\n",
      "1875/1875 [==============================] - 2s 1ms/step - loss: 0.0364 - accuracy: 0.9899\n",
      "Epoch 10/10\n",
      "1875/1875 [==============================] - 2s 1ms/step - loss: 0.0386 - accuracy: 0.9905\n"
     ]
    },
    {
     "data": {
      "text/plain": [
       "<tensorflow.python.keras.callbacks.History at 0x23167a217c0>"
      ]
     },
     "execution_count": 28,
     "metadata": {},
     "output_type": "execute_result"
    }
   ],
   "source": [
    "model = keras.Sequential([\n",
    "    keras.layers.Dense(250, input_shape=(784, ), activation='relu'),\n",
    "    keras.layers.Dense(10, activation='sigmoid')\n",
    "])\n",
    "\n",
    "model.compile(optimizer='adam',\n",
    "              loss='sparse_categorical_crossentropy',\n",
    "              metrics=['accuracy'])\n",
    "\n",
    "model.fit(X_train_input, y_train, epochs=10)"
   ]
  },
  {
   "cell_type": "code",
   "execution_count": 29,
   "metadata": {},
   "outputs": [
    {
     "name": "stdout",
     "output_type": "stream",
     "text": [
      "313/313 [==============================] - 0s 737us/step - loss: 0.1682 - accuracy: 0.9725\n"
     ]
    },
    {
     "data": {
      "text/plain": [
       "[0.1681581288576126, 0.9725000262260437]"
      ]
     },
     "execution_count": 29,
     "metadata": {},
     "output_type": "execute_result"
    }
   ],
   "source": [
    "model.evaluate(X_test_input, y_test)"
   ]
  },
  {
   "cell_type": "code",
   "execution_count": 30,
   "metadata": {},
   "outputs": [
    {
     "data": {
      "text/plain": [
       "array([[3.1165107e-13, 3.6939922e-18, 2.8007092e-08, ..., 9.9999982e-01,\n",
       "        1.9530759e-14, 8.6803631e-09],\n",
       "       [3.0896620e-33, 6.3493182e-36, 1.0000000e+00, ..., 0.0000000e+00,\n",
       "        1.0651224e-33, 8.9136825e-38],\n",
       "       [1.5448959e-13, 4.7179112e-01, 1.0156448e-06, ..., 7.3603878e-06,\n",
       "        4.0757036e-06, 6.1594535e-10],\n",
       "       ...,\n",
       "       [1.6175284e-31, 1.0423860e-21, 1.1213039e-19, ..., 4.3659952e-08,\n",
       "        1.3465601e-09, 4.5133055e-07],\n",
       "       [2.6055827e-16, 6.1681454e-35, 9.9119146e-26, ..., 3.8261007e-23,\n",
       "        1.8461126e-09, 6.1619855e-27],\n",
       "       [2.3369238e-29, 0.0000000e+00, 5.3368139e-12, ..., 1.7672671e-24,\n",
       "        0.0000000e+00, 9.3613719e-29]], dtype=float32)"
      ]
     },
     "execution_count": 30,
     "metadata": {},
     "output_type": "execute_result"
    }
   ],
   "source": [
    "prdiction = model.predict(X_test_input)\n",
    "prdiction"
   ]
  },
  {
   "cell_type": "code",
   "execution_count": 31,
   "metadata": {},
   "outputs": [
    {
     "data": {
      "text/plain": [
       "[7, 2, 1, 0, 4]"
      ]
     },
     "execution_count": 31,
     "metadata": {},
     "output_type": "execute_result"
    }
   ],
   "source": [
    "prediction_label = [np.argmax(i) for i in prdiction]\n",
    "prediction_label[:5]"
   ]
  },
  {
   "cell_type": "code",
   "execution_count": 32,
   "metadata": {},
   "outputs": [
    {
     "data": {
      "text/plain": [
       "array([7, 2, 1, 0, 4], dtype=uint8)"
      ]
     },
     "execution_count": 32,
     "metadata": {},
     "output_type": "execute_result"
    }
   ],
   "source": [
    "y_test[:5]"
   ]
  },
  {
   "cell_type": "code",
   "execution_count": 33,
   "metadata": {},
   "outputs": [
    {
     "data": {
      "text/plain": [
       "<tf.Tensor: shape=(10, 10), dtype=int32, numpy=\n",
       "array([[ 970,    1,    1,    0,    1,    2,    2,    2,    0,    1],\n",
       "       [   0, 1122,    5,    0,    0,    1,    2,    2,    2,    1],\n",
       "       [   4,    0, 1010,    3,    2,    1,    4,    5,    3,    0],\n",
       "       [   1,    0,    7,  979,    0,    6,    1,    5,    0,   11],\n",
       "       [   2,    1,    6,    0,  954,    0,    5,    3,    2,    9],\n",
       "       [   3,    0,    1,   13,    0,  864,    5,    1,    2,    3],\n",
       "       [   7,    3,    8,    0,    8,    7,  924,    0,    1,    0],\n",
       "       [   1,    3,   15,    0,    0,    0,    0, 1004,    1,    4],\n",
       "       [   1,    0,   13,    7,    6,   12,    2,    7,  924,    2],\n",
       "       [   3,    1,    0,    5,    5,    6,    2,   12,    1,  974]])>"
      ]
     },
     "execution_count": 33,
     "metadata": {},
     "output_type": "execute_result"
    }
   ],
   "source": [
    "cm = tf.math.confusion_matrix(y_test, prediction_label)\n",
    "cm"
   ]
  },
  {
   "cell_type": "code",
   "execution_count": 34,
   "metadata": {},
   "outputs": [
    {
     "data": {
      "text/plain": [
       "<AxesSubplot:>"
      ]
     },
     "execution_count": 34,
     "metadata": {},
     "output_type": "execute_result"
    },
    {
     "data": {
      "image/png": "[encoded data removed]",
      "text/plain": [
       "<Figure size 720x504 with 2 Axes>"
      ]
     },
     "metadata": {
      "needs_background": "light"
     },
     "output_type": "display_data"
    }
   ],
   "source": [
    "plt.figure(figsize=(10,7))\n",
    "sns.heatmap(cm, annot=True, fmt='d')"
   ]
  },
  {
   "cell_type": "code",
   "execution_count": null,
   "metadata": {},
   "outputs": [],
   "source": []
  }
 ],
 "metadata": {
  "kernelspec": {
   "display_name": "Python 3",
   "language": "python",
   "name": "python3"
  },
  "language_info": {
   "codemirror_mode": {
    "name": "ipython",
    "version": 3
   },
   "file_extension": ".py",
   "mimetype": "text/x-python",
   "name": "python",
   "nbconvert_exporter": "python",
   "pygments_lexer": "ipython3",
   "version": "3.8.3"
  }
 },
 "nbformat": 4,
 "nbformat_minor": 4
}
