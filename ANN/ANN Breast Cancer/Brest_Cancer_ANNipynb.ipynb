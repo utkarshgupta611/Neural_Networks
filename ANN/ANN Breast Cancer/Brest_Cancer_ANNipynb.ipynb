{
  "nbformat": 4,
  "nbformat_minor": 0,
  "metadata": {
    "colab": {
      "name": "Brest_Cancer_ANNipynb",
      "provenance": [],
      "collapsed_sections": []
    },
    "kernelspec": {
      "name": "python3",
      "display_name": "Python 3"
    }
  },
  "cells": [
    {
      "cell_type": "markdown",
      "metadata": {
        "id": "5IT7SSQ7xzoF"
      },
      "source": [
        "**importing Library**"
      ]
    },
    {
      "cell_type": "code",
      "metadata": {
        "id": "YW_95itTmnUy"
      },
      "source": [
        "import pandas as pd\r\n",
        "import numpy as np\r\n",
        "import matplotlib.pyplot as plt\r\n",
        "import seaborn as sns"
      ],
      "execution_count": 1,
      "outputs": []
    },
    {
      "cell_type": "markdown",
      "metadata": {
        "id": "18pYTGY2yEIo"
      },
      "source": [
        "**reading Data**"
      ]
    },
    {
      "cell_type": "code",
      "metadata": {
        "colab": {
          "base_uri": "https://localhost:8080/"
        },
        "id": "jHRqjF2FlUFQ",
        "outputId": "16820ef5-6a07-442f-9f4d-ff01ab330648"
      },
      "source": [
        "from google.colab import drive\r\n",
        "drive.mount('/content/drive')"
      ],
      "execution_count": 2,
      "outputs": [
        {
          "output_type": "stream",
          "text": [
            "Drive already mounted at /content/drive; to attempt to forcibly remount, call drive.mount(\"/content/drive\", force_remount=True).\n"
          ],
          "name": "stdout"
        }
      ]
    },
    {
      "cell_type": "code",
      "metadata": {
        "id": "jb2KziZAm1Jd"
      },
      "source": [
        "data = pd.read_csv('/content/drive/MyDrive/Data colab/deep_learning/ANN/Breast_cancer_ann.csv')\r\n",
        "data.head()\r\n",
        "del data['Unnamed: 32']"
      ],
      "execution_count": 3,
      "outputs": []
    },
    {
      "cell_type": "markdown",
      "metadata": {
        "id": "eTEy5PzByJtI"
      },
      "source": [
        "**Processing Data**"
      ]
    },
    {
      "cell_type": "code",
      "metadata": {
        "colab": {
          "base_uri": "https://localhost:8080/"
        },
        "id": "wV1yLuabm9D8",
        "outputId": "4d36ebcb-588d-4549-e9ee-f80c4e2509e8"
      },
      "source": [
        "data.isnull().sum()"
      ],
      "execution_count": 4,
      "outputs": [
        {
          "output_type": "execute_result",
          "data": {
            "text/plain": [
              "id                         0\n",
              "diagnosis                  0\n",
              "radius_mean                0\n",
              "texture_mean               0\n",
              "perimeter_mean             0\n",
              "area_mean                  0\n",
              "smoothness_mean            0\n",
              "compactness_mean           0\n",
              "concavity_mean             0\n",
              "concave points_mean        0\n",
              "symmetry_mean              0\n",
              "fractal_dimension_mean     0\n",
              "radius_se                  0\n",
              "texture_se                 0\n",
              "perimeter_se               0\n",
              "area_se                    0\n",
              "smoothness_se              0\n",
              "compactness_se             0\n",
              "concavity_se               0\n",
              "concave points_se          0\n",
              "symmetry_se                0\n",
              "fractal_dimension_se       0\n",
              "radius_worst               0\n",
              "texture_worst              0\n",
              "perimeter_worst            0\n",
              "area_worst                 0\n",
              "smoothness_worst           0\n",
              "compactness_worst          0\n",
              "concavity_worst            0\n",
              "concave points_worst       0\n",
              "symmetry_worst             0\n",
              "fractal_dimension_worst    0\n",
              "dtype: int64"
            ]
          },
          "metadata": {
            "tags": []
          },
          "execution_count": 4
        }
      ]
    },
    {
      "cell_type": "code",
      "metadata": {
        "colab": {
          "base_uri": "https://localhost:8080/"
        },
        "id": "9G92DMwpnCYr",
        "outputId": "a762e080-b5c4-42a3-a8ab-f7e41abe3250"
      },
      "source": [
        "data['diagnosis'].unique()"
      ],
      "execution_count": 5,
      "outputs": [
        {
          "output_type": "execute_result",
          "data": {
            "text/plain": [
              "array(['M', 'B'], dtype=object)"
            ]
          },
          "metadata": {
            "tags": []
          },
          "execution_count": 5
        }
      ]
    },
    {
      "cell_type": "code",
      "metadata": {
        "id": "I4T4RoXlnUpP"
      },
      "source": [
        "X = data.iloc[:, 2:].values\r\n",
        "y = data.iloc[:, 1].values"
      ],
      "execution_count": 6,
      "outputs": []
    },
    {
      "cell_type": "code",
      "metadata": {
        "colab": {
          "base_uri": "https://localhost:8080/"
        },
        "id": "TsJjRnQnv51b",
        "outputId": "c499ca44-23d4-4101-af96-98fb29424017"
      },
      "source": [
        "X"
      ],
      "execution_count": 7,
      "outputs": [
        {
          "output_type": "execute_result",
          "data": {
            "text/plain": [
              "array([[1.799e+01, 1.038e+01, 1.228e+02, ..., 2.654e-01, 4.601e-01,\n",
              "        1.189e-01],\n",
              "       [2.057e+01, 1.777e+01, 1.329e+02, ..., 1.860e-01, 2.750e-01,\n",
              "        8.902e-02],\n",
              "       [1.969e+01, 2.125e+01, 1.300e+02, ..., 2.430e-01, 3.613e-01,\n",
              "        8.758e-02],\n",
              "       ...,\n",
              "       [1.660e+01, 2.808e+01, 1.083e+02, ..., 1.418e-01, 2.218e-01,\n",
              "        7.820e-02],\n",
              "       [2.060e+01, 2.933e+01, 1.401e+02, ..., 2.650e-01, 4.087e-01,\n",
              "        1.240e-01],\n",
              "       [7.760e+00, 2.454e+01, 4.792e+01, ..., 0.000e+00, 2.871e-01,\n",
              "        7.039e-02]])"
            ]
          },
          "metadata": {
            "tags": []
          },
          "execution_count": 7
        }
      ]
    },
    {
      "cell_type": "code",
      "metadata": {
        "colab": {
          "base_uri": "https://localhost:8080/"
        },
        "id": "3EffeBXGnUxO",
        "outputId": "2e44ddb3-66d5-4a2b-f830-04aec04c7fc5"
      },
      "source": [
        "print('shape of X', X.shape)\r\n",
        "print('shape of  y',y.shape)"
      ],
      "execution_count": 8,
      "outputs": [
        {
          "output_type": "stream",
          "text": [
            "shape of X (569, 30)\n",
            "shape of  y (569,)\n"
          ],
          "name": "stdout"
        }
      ]
    },
    {
      "cell_type": "code",
      "metadata": {
        "id": "XilZ-D5nnrPQ"
      },
      "source": [
        "# Encoding Categorical Values\r\n",
        "from sklearn.preprocessing import LabelEncoder\r\n",
        "encoder = LabelEncoder()\r\n",
        "y = encoder.fit_transform(y)"
      ],
      "execution_count": 9,
      "outputs": []
    },
    {
      "cell_type": "code",
      "metadata": {
        "id": "e-XfddXDoOG4"
      },
      "source": [
        "from sklearn.model_selection import train_test_split\r\n",
        "X_train, X_test, y_train, y_test = train_test_split(X, y, test_size=0.2, random_state=0)"
      ],
      "execution_count": 10,
      "outputs": []
    },
    {
      "cell_type": "code",
      "metadata": {
        "colab": {
          "base_uri": "https://localhost:8080/"
        },
        "id": "LLQ1v12lohiE",
        "outputId": "485678a3-23f0-4442-f818-29b58a6dc268"
      },
      "source": [
        "print('shape of X_train', X_train.shape)\r\n",
        "print('shape of X_test', X_test.shape)\r\n",
        "print('shape of y_train', y_train.shape)\r\n",
        "print('shape of y_tesy', y_test.shape)"
      ],
      "execution_count": 11,
      "outputs": [
        {
          "output_type": "stream",
          "text": [
            "shape of X_train (455, 30)\n",
            "shape of X_test (114, 30)\n",
            "shape of y_train (455,)\n",
            "shape of y_tesy (114,)\n"
          ],
          "name": "stdout"
        }
      ]
    },
    {
      "cell_type": "code",
      "metadata": {
        "id": "b0zIRhbmohte"
      },
      "source": [
        "from sklearn.preprocessing import StandardScaler\r\n",
        "scaler = StandardScaler()\r\n",
        "X_train = scaler.fit_transform(X_train)\r\n",
        "X_test = scaler.fit_transform(X_test)"
      ],
      "execution_count": 12,
      "outputs": []
    },
    {
      "cell_type": "markdown",
      "metadata": {
        "id": "kELaxVwFpQC2"
      },
      "source": [
        "**Now that we have prepared data, we will import Keras and its packages**"
      ]
    },
    {
      "cell_type": "markdown",
      "metadata": {
        "id": "pJe2vhn5yQjt"
      },
      "source": [
        "**Artificial Neural Network **"
      ]
    },
    {
      "cell_type": "code",
      "metadata": {
        "id": "gqW46keTpNBe"
      },
      "source": [
        "import keras\r\n",
        "from keras.models import Sequential\r\n",
        "from keras.layers import  Dense, Dropout"
      ],
      "execution_count": 13,
      "outputs": []
    },
    {
      "cell_type": "code",
      "metadata": {
        "id": "pRweTOXKpsYK"
      },
      "source": [
        "# Initialising the ANN\r\n",
        "classifier =  Sequential()"
      ],
      "execution_count": 14,
      "outputs": []
    },
    {
      "cell_type": "code",
      "metadata": {
        "id": "3oKtCci3pz8j"
      },
      "source": [
        "# Adding the input layer and the first hidden layer\r\n",
        "classifier.add(Dense(units = 16, activation='relu', kernel_initializer='uniform', input_dim=30))"
      ],
      "execution_count": 15,
      "outputs": []
    },
    {
      "cell_type": "code",
      "metadata": {
        "id": "40KyrxbPp0lW"
      },
      "source": [
        "# Adding the second hidden layer\r\n",
        "classifier.add(Dense(units = 16, kernel_initializer='uniform', activation='relu'))"
      ],
      "execution_count": 16,
      "outputs": []
    },
    {
      "cell_type": "code",
      "metadata": {
        "id": "8i8saoOYp0rE"
      },
      "source": [
        "# # Adding the third hidden layer\r\n",
        "# classifier.add(Dense(units = 16, kernel_initializer='uniform', activation='relu'))\r\n",
        "# classifier.add(Dropout(0.1))"
      ],
      "execution_count": 17,
      "outputs": []
    },
    {
      "cell_type": "code",
      "metadata": {
        "id": "SJHgPbWCsZ6m"
      },
      "source": [
        "# Adding the output layer\r\n",
        "classifier.add(Dense(units = 1, kernel_initializer='uniform', activation='sigmoid'))"
      ],
      "execution_count": 18,
      "outputs": []
    },
    {
      "cell_type": "code",
      "metadata": {
        "id": "lkLVDYKesqd0"
      },
      "source": [
        "# Compiling the ANN\r\n",
        "classifier.compile(optimizer='adam', loss='binary_crossentropy', metrics=['accuracy'])"
      ],
      "execution_count": 19,
      "outputs": []
    },
    {
      "cell_type": "code",
      "metadata": {
        "colab": {
          "base_uri": "https://localhost:8080/"
        },
        "id": "h43yYvB9sIUi",
        "outputId": "8246de43-b5f2-4117-96d7-d56722b45e8f"
      },
      "source": [
        "classifier.summary()"
      ],
      "execution_count": 20,
      "outputs": [
        {
          "output_type": "stream",
          "text": [
            "Model: \"sequential\"\n",
            "_________________________________________________________________\n",
            "Layer (type)                 Output Shape              Param #   \n",
            "=================================================================\n",
            "dense (Dense)                (None, 16)                496       \n",
            "_________________________________________________________________\n",
            "dense_1 (Dense)              (None, 16)                272       \n",
            "_________________________________________________________________\n",
            "dense_2 (Dense)              (None, 1)                 17        \n",
            "=================================================================\n",
            "Total params: 785\n",
            "Trainable params: 785\n",
            "Non-trainable params: 0\n",
            "_________________________________________________________________\n"
          ],
          "name": "stdout"
        }
      ]
    },
    {
      "cell_type": "code",
      "metadata": {
        "colab": {
          "base_uri": "https://localhost:8080/"
        },
        "id": "8SM4QrMRsw8a",
        "outputId": "715803de-1d5d-497d-de3f-10eacb19851a"
      },
      "source": [
        "classifier.fit(X_train, y_train, batch_size=100, epochs=150)"
      ],
      "execution_count": 21,
      "outputs": [
        {
          "output_type": "stream",
          "text": [
            "Epoch 1/150\n",
            "5/5 [==============================] - 1s 3ms/step - loss: 0.6923 - accuracy: 0.7859\n",
            "Epoch 2/150\n",
            "5/5 [==============================] - 0s 2ms/step - loss: 0.6900 - accuracy: 0.7044\n",
            "Epoch 3/150\n",
            "5/5 [==============================] - 0s 2ms/step - loss: 0.6865 - accuracy: 0.7382\n",
            "Epoch 4/150\n",
            "5/5 [==============================] - 0s 3ms/step - loss: 0.6820 - accuracy: 0.7977\n",
            "Epoch 5/150\n",
            "5/5 [==============================] - 0s 3ms/step - loss: 0.6747 - accuracy: 0.8948\n",
            "Epoch 6/150\n",
            "5/5 [==============================] - 0s 3ms/step - loss: 0.6645 - accuracy: 0.9216\n",
            "Epoch 7/150\n",
            "5/5 [==============================] - 0s 2ms/step - loss: 0.6506 - accuracy: 0.9272\n",
            "Epoch 8/150\n",
            "5/5 [==============================] - 0s 2ms/step - loss: 0.6316 - accuracy: 0.9322\n",
            "Epoch 9/150\n",
            "5/5 [==============================] - 0s 3ms/step - loss: 0.6076 - accuracy: 0.9403\n",
            "Epoch 10/150\n",
            "5/5 [==============================] - 0s 3ms/step - loss: 0.5758 - accuracy: 0.9463\n",
            "Epoch 11/150\n",
            "5/5 [==============================] - 0s 2ms/step - loss: 0.5412 - accuracy: 0.9467\n",
            "Epoch 12/150\n",
            "5/5 [==============================] - 0s 2ms/step - loss: 0.5049 - accuracy: 0.9424\n",
            "Epoch 13/150\n",
            "5/5 [==============================] - 0s 3ms/step - loss: 0.4592 - accuracy: 0.9581\n",
            "Epoch 14/150\n",
            "5/5 [==============================] - 0s 3ms/step - loss: 0.4189 - accuracy: 0.9437\n",
            "Epoch 15/150\n",
            "5/5 [==============================] - 0s 2ms/step - loss: 0.3670 - accuracy: 0.9464\n",
            "Epoch 16/150\n",
            "5/5 [==============================] - 0s 3ms/step - loss: 0.3299 - accuracy: 0.9410\n",
            "Epoch 17/150\n",
            "5/5 [==============================] - 0s 2ms/step - loss: 0.2804 - accuracy: 0.9585\n",
            "Epoch 18/150\n",
            "5/5 [==============================] - 0s 2ms/step - loss: 0.2476 - accuracy: 0.9599\n",
            "Epoch 19/150\n",
            "5/5 [==============================] - 0s 3ms/step - loss: 0.2278 - accuracy: 0.9605\n",
            "Epoch 20/150\n",
            "5/5 [==============================] - 0s 2ms/step - loss: 0.1890 - accuracy: 0.9766\n",
            "Epoch 21/150\n",
            "5/5 [==============================] - 0s 4ms/step - loss: 0.1704 - accuracy: 0.9736\n",
            "Epoch 22/150\n",
            "5/5 [==============================] - 0s 2ms/step - loss: 0.1644 - accuracy: 0.9705\n",
            "Epoch 23/150\n",
            "5/5 [==============================] - 0s 2ms/step - loss: 0.1604 - accuracy: 0.9744\n",
            "Epoch 24/150\n",
            "5/5 [==============================] - 0s 2ms/step - loss: 0.1229 - accuracy: 0.9868\n",
            "Epoch 25/150\n",
            "5/5 [==============================] - 0s 2ms/step - loss: 0.1229 - accuracy: 0.9811\n",
            "Epoch 26/150\n",
            "5/5 [==============================] - 0s 2ms/step - loss: 0.1326 - accuracy: 0.9708\n",
            "Epoch 27/150\n",
            "5/5 [==============================] - 0s 2ms/step - loss: 0.1200 - accuracy: 0.9668\n",
            "Epoch 28/150\n",
            "5/5 [==============================] - 0s 2ms/step - loss: 0.1035 - accuracy: 0.9729\n",
            "Epoch 29/150\n",
            "5/5 [==============================] - 0s 2ms/step - loss: 0.0963 - accuracy: 0.9775\n",
            "Epoch 30/150\n",
            "5/5 [==============================] - 0s 2ms/step - loss: 0.0962 - accuracy: 0.9814\n",
            "Epoch 31/150\n",
            "5/5 [==============================] - 0s 2ms/step - loss: 0.0934 - accuracy: 0.9761\n",
            "Epoch 32/150\n",
            "5/5 [==============================] - 0s 3ms/step - loss: 0.0917 - accuracy: 0.9773\n",
            "Epoch 33/150\n",
            "5/5 [==============================] - 0s 5ms/step - loss: 0.0866 - accuracy: 0.9776\n",
            "Epoch 34/150\n",
            "5/5 [==============================] - 0s 2ms/step - loss: 0.0743 - accuracy: 0.9848\n",
            "Epoch 35/150\n",
            "5/5 [==============================] - 0s 3ms/step - loss: 0.0807 - accuracy: 0.9802\n",
            "Epoch 36/150\n",
            "5/5 [==============================] - 0s 3ms/step - loss: 0.0814 - accuracy: 0.9797\n",
            "Epoch 37/150\n",
            "5/5 [==============================] - 0s 3ms/step - loss: 0.0878 - accuracy: 0.9769\n",
            "Epoch 38/150\n",
            "5/5 [==============================] - 0s 2ms/step - loss: 0.0773 - accuracy: 0.9837\n",
            "Epoch 39/150\n",
            "5/5 [==============================] - 0s 3ms/step - loss: 0.0815 - accuracy: 0.9810\n",
            "Epoch 40/150\n",
            "5/5 [==============================] - 0s 3ms/step - loss: 0.0727 - accuracy: 0.9834\n",
            "Epoch 41/150\n",
            "5/5 [==============================] - 0s 3ms/step - loss: 0.0622 - accuracy: 0.9849\n",
            "Epoch 42/150\n",
            "5/5 [==============================] - 0s 2ms/step - loss: 0.0730 - accuracy: 0.9788\n",
            "Epoch 43/150\n",
            "5/5 [==============================] - 0s 2ms/step - loss: 0.0649 - accuracy: 0.9840\n",
            "Epoch 44/150\n",
            "5/5 [==============================] - 0s 3ms/step - loss: 0.0823 - accuracy: 0.9774\n",
            "Epoch 45/150\n",
            "5/5 [==============================] - 0s 2ms/step - loss: 0.0654 - accuracy: 0.9846\n",
            "Epoch 46/150\n",
            "5/5 [==============================] - 0s 3ms/step - loss: 0.0648 - accuracy: 0.9885\n",
            "Epoch 47/150\n",
            "5/5 [==============================] - 0s 2ms/step - loss: 0.0664 - accuracy: 0.9857\n",
            "Epoch 48/150\n",
            "5/5 [==============================] - 0s 3ms/step - loss: 0.0614 - accuracy: 0.9889\n",
            "Epoch 49/150\n",
            "5/5 [==============================] - 0s 2ms/step - loss: 0.0692 - accuracy: 0.9838\n",
            "Epoch 50/150\n",
            "5/5 [==============================] - 0s 2ms/step - loss: 0.0550 - accuracy: 0.9919\n",
            "Epoch 51/150\n",
            "5/5 [==============================] - 0s 2ms/step - loss: 0.0862 - accuracy: 0.9798\n",
            "Epoch 52/150\n",
            "5/5 [==============================] - 0s 2ms/step - loss: 0.0593 - accuracy: 0.9870\n",
            "Epoch 53/150\n",
            "5/5 [==============================] - 0s 3ms/step - loss: 0.0575 - accuracy: 0.9895\n",
            "Epoch 54/150\n",
            "5/5 [==============================] - 0s 3ms/step - loss: 0.0656 - accuracy: 0.9897\n",
            "Epoch 55/150\n",
            "5/5 [==============================] - 0s 3ms/step - loss: 0.0649 - accuracy: 0.9879\n",
            "Epoch 56/150\n",
            "5/5 [==============================] - 0s 3ms/step - loss: 0.0576 - accuracy: 0.9911\n",
            "Epoch 57/150\n",
            "5/5 [==============================] - 0s 2ms/step - loss: 0.0751 - accuracy: 0.9837\n",
            "Epoch 58/150\n",
            "5/5 [==============================] - 0s 3ms/step - loss: 0.0736 - accuracy: 0.9840\n",
            "Epoch 59/150\n",
            "5/5 [==============================] - 0s 3ms/step - loss: 0.0570 - accuracy: 0.9904\n",
            "Epoch 60/150\n",
            "5/5 [==============================] - 0s 2ms/step - loss: 0.0665 - accuracy: 0.9872\n",
            "Epoch 61/150\n",
            "5/5 [==============================] - 0s 2ms/step - loss: 0.0461 - accuracy: 0.9918\n",
            "Epoch 62/150\n",
            "5/5 [==============================] - 0s 2ms/step - loss: 0.0548 - accuracy: 0.9911\n",
            "Epoch 63/150\n",
            "5/5 [==============================] - 0s 2ms/step - loss: 0.0547 - accuracy: 0.9897\n",
            "Epoch 64/150\n",
            "5/5 [==============================] - 0s 2ms/step - loss: 0.0620 - accuracy: 0.9851\n",
            "Epoch 65/150\n",
            "5/5 [==============================] - 0s 3ms/step - loss: 0.0640 - accuracy: 0.9874\n",
            "Epoch 66/150\n",
            "5/5 [==============================] - 0s 2ms/step - loss: 0.0465 - accuracy: 0.9904\n",
            "Epoch 67/150\n",
            "5/5 [==============================] - 0s 2ms/step - loss: 0.0547 - accuracy: 0.9902\n",
            "Epoch 68/150\n",
            "5/5 [==============================] - 0s 2ms/step - loss: 0.0481 - accuracy: 0.9893\n",
            "Epoch 69/150\n",
            "5/5 [==============================] - 0s 2ms/step - loss: 0.0515 - accuracy: 0.9879\n",
            "Epoch 70/150\n",
            "5/5 [==============================] - 0s 3ms/step - loss: 0.0531 - accuracy: 0.9879\n",
            "Epoch 71/150\n",
            "5/5 [==============================] - 0s 4ms/step - loss: 0.0448 - accuracy: 0.9912\n",
            "Epoch 72/150\n",
            "5/5 [==============================] - 0s 3ms/step - loss: 0.0582 - accuracy: 0.9884\n",
            "Epoch 73/150\n",
            "5/5 [==============================] - 0s 4ms/step - loss: 0.0654 - accuracy: 0.9854\n",
            "Epoch 74/150\n",
            "5/5 [==============================] - 0s 3ms/step - loss: 0.0618 - accuracy: 0.9845\n",
            "Epoch 75/150\n",
            "5/5 [==============================] - 0s 3ms/step - loss: 0.0406 - accuracy: 0.9923\n",
            "Epoch 76/150\n",
            "5/5 [==============================] - 0s 3ms/step - loss: 0.0577 - accuracy: 0.9868\n",
            "Epoch 77/150\n",
            "5/5 [==============================] - 0s 2ms/step - loss: 0.0497 - accuracy: 0.9880\n",
            "Epoch 78/150\n",
            "5/5 [==============================] - 0s 3ms/step - loss: 0.0478 - accuracy: 0.9902\n",
            "Epoch 79/150\n",
            "5/5 [==============================] - 0s 3ms/step - loss: 0.0451 - accuracy: 0.9897\n",
            "Epoch 80/150\n",
            "5/5 [==============================] - 0s 2ms/step - loss: 0.0493 - accuracy: 0.9879\n",
            "Epoch 81/150\n",
            "5/5 [==============================] - 0s 2ms/step - loss: 0.0529 - accuracy: 0.9879\n",
            "Epoch 82/150\n",
            "5/5 [==============================] - 0s 3ms/step - loss: 0.0466 - accuracy: 0.9887\n",
            "Epoch 83/150\n",
            "5/5 [==============================] - 0s 2ms/step - loss: 0.0537 - accuracy: 0.9865\n",
            "Epoch 84/150\n",
            "5/5 [==============================] - 0s 2ms/step - loss: 0.0565 - accuracy: 0.9848\n",
            "Epoch 85/150\n",
            "5/5 [==============================] - 0s 3ms/step - loss: 0.0535 - accuracy: 0.9856\n",
            "Epoch 86/150\n",
            "5/5 [==============================] - 0s 2ms/step - loss: 0.0340 - accuracy: 0.9936\n",
            "Epoch 87/150\n",
            "5/5 [==============================] - 0s 3ms/step - loss: 0.0489 - accuracy: 0.9872\n",
            "Epoch 88/150\n",
            "5/5 [==============================] - 0s 2ms/step - loss: 0.0380 - accuracy: 0.9931\n",
            "Epoch 89/150\n",
            "5/5 [==============================] - 0s 2ms/step - loss: 0.0358 - accuracy: 0.9927\n",
            "Epoch 90/150\n",
            "5/5 [==============================] - 0s 2ms/step - loss: 0.0331 - accuracy: 0.9933\n",
            "Epoch 91/150\n",
            "5/5 [==============================] - 0s 2ms/step - loss: 0.0345 - accuracy: 0.9924\n",
            "Epoch 92/150\n",
            "5/5 [==============================] - 0s 4ms/step - loss: 0.0404 - accuracy: 0.9897\n",
            "Epoch 93/150\n",
            "5/5 [==============================] - 0s 3ms/step - loss: 0.0519 - accuracy: 0.9870\n",
            "Epoch 94/150\n",
            "5/5 [==============================] - 0s 3ms/step - loss: 0.0436 - accuracy: 0.9872\n",
            "Epoch 95/150\n",
            "5/5 [==============================] - 0s 2ms/step - loss: 0.0406 - accuracy: 0.9897\n",
            "Epoch 96/150\n",
            "5/5 [==============================] - 0s 3ms/step - loss: 0.0464 - accuracy: 0.9881\n",
            "Epoch 97/150\n",
            "5/5 [==============================] - 0s 3ms/step - loss: 0.0308 - accuracy: 0.9927\n",
            "Epoch 98/150\n",
            "5/5 [==============================] - 0s 2ms/step - loss: 0.0392 - accuracy: 0.9902\n",
            "Epoch 99/150\n",
            "5/5 [==============================] - 0s 2ms/step - loss: 0.0414 - accuracy: 0.9895\n",
            "Epoch 100/150\n",
            "5/5 [==============================] - 0s 2ms/step - loss: 0.0465 - accuracy: 0.9866\n",
            "Epoch 101/150\n",
            "5/5 [==============================] - 0s 2ms/step - loss: 0.0470 - accuracy: 0.9912\n",
            "Epoch 102/150\n",
            "5/5 [==============================] - 0s 3ms/step - loss: 0.0416 - accuracy: 0.9918\n",
            "Epoch 103/150\n",
            "5/5 [==============================] - 0s 3ms/step - loss: 0.0453 - accuracy: 0.9910\n",
            "Epoch 104/150\n",
            "5/5 [==============================] - 0s 3ms/step - loss: 0.0351 - accuracy: 0.9922\n",
            "Epoch 105/150\n",
            "5/5 [==============================] - 0s 3ms/step - loss: 0.0417 - accuracy: 0.9904\n",
            "Epoch 106/150\n",
            "5/5 [==============================] - 0s 3ms/step - loss: 0.0404 - accuracy: 0.9915\n",
            "Epoch 107/150\n",
            "5/5 [==============================] - 0s 3ms/step - loss: 0.0473 - accuracy: 0.9887\n",
            "Epoch 108/150\n",
            "5/5 [==============================] - 0s 2ms/step - loss: 0.0465 - accuracy: 0.9882\n",
            "Epoch 109/150\n",
            "5/5 [==============================] - 0s 2ms/step - loss: 0.0395 - accuracy: 0.9918\n",
            "Epoch 110/150\n",
            "5/5 [==============================] - 0s 2ms/step - loss: 0.0421 - accuracy: 0.9900\n",
            "Epoch 111/150\n",
            "5/5 [==============================] - 0s 2ms/step - loss: 0.0327 - accuracy: 0.9943\n",
            "Epoch 112/150\n",
            "5/5 [==============================] - 0s 2ms/step - loss: 0.0461 - accuracy: 0.9882\n",
            "Epoch 113/150\n",
            "5/5 [==============================] - 0s 2ms/step - loss: 0.0380 - accuracy: 0.9904\n",
            "Epoch 114/150\n",
            "5/5 [==============================] - 0s 2ms/step - loss: 0.0337 - accuracy: 0.9928\n",
            "Epoch 115/150\n",
            "5/5 [==============================] - 0s 3ms/step - loss: 0.0350 - accuracy: 0.9921\n",
            "Epoch 116/150\n",
            "5/5 [==============================] - 0s 3ms/step - loss: 0.0410 - accuracy: 0.9897\n",
            "Epoch 117/150\n",
            "5/5 [==============================] - 0s 3ms/step - loss: 0.0390 - accuracy: 0.9910\n",
            "Epoch 118/150\n",
            "5/5 [==============================] - 0s 4ms/step - loss: 0.0476 - accuracy: 0.9873\n",
            "Epoch 119/150\n",
            "5/5 [==============================] - 0s 3ms/step - loss: 0.0337 - accuracy: 0.9922\n",
            "Epoch 120/150\n",
            "5/5 [==============================] - 0s 3ms/step - loss: 0.0302 - accuracy: 0.9932\n",
            "Epoch 121/150\n",
            "5/5 [==============================] - 0s 3ms/step - loss: 0.0363 - accuracy: 0.9917\n",
            "Epoch 122/150\n",
            "5/5 [==============================] - 0s 2ms/step - loss: 0.0407 - accuracy: 0.9898\n",
            "Epoch 123/150\n",
            "5/5 [==============================] - 0s 2ms/step - loss: 0.0274 - accuracy: 0.9951\n",
            "Epoch 124/150\n",
            "5/5 [==============================] - 0s 2ms/step - loss: 0.0323 - accuracy: 0.9929\n",
            "Epoch 125/150\n",
            "5/5 [==============================] - 0s 3ms/step - loss: 0.0306 - accuracy: 0.9925\n",
            "Epoch 126/150\n",
            "5/5 [==============================] - 0s 2ms/step - loss: 0.0361 - accuracy: 0.9904\n",
            "Epoch 127/150\n",
            "5/5 [==============================] - 0s 3ms/step - loss: 0.0519 - accuracy: 0.9848\n",
            "Epoch 128/150\n",
            "5/5 [==============================] - 0s 4ms/step - loss: 0.0383 - accuracy: 0.9904\n",
            "Epoch 129/150\n",
            "5/5 [==============================] - 0s 3ms/step - loss: 0.0374 - accuracy: 0.9900\n",
            "Epoch 130/150\n",
            "5/5 [==============================] - 0s 2ms/step - loss: 0.0350 - accuracy: 0.9904\n",
            "Epoch 131/150\n",
            "5/5 [==============================] - 0s 3ms/step - loss: 0.0316 - accuracy: 0.9930\n",
            "Epoch 132/150\n",
            "5/5 [==============================] - 0s 2ms/step - loss: 0.0337 - accuracy: 0.9914\n",
            "Epoch 133/150\n",
            "5/5 [==============================] - 0s 2ms/step - loss: 0.0321 - accuracy: 0.9922\n",
            "Epoch 134/150\n",
            "5/5 [==============================] - 0s 3ms/step - loss: 0.0443 - accuracy: 0.9873\n",
            "Epoch 135/150\n",
            "5/5 [==============================] - 0s 3ms/step - loss: 0.0339 - accuracy: 0.9914\n",
            "Epoch 136/150\n",
            "5/5 [==============================] - 0s 3ms/step - loss: 0.0261 - accuracy: 0.9948\n",
            "Epoch 137/150\n",
            "5/5 [==============================] - 0s 3ms/step - loss: 0.0269 - accuracy: 0.9940\n",
            "Epoch 138/150\n",
            "5/5 [==============================] - 0s 2ms/step - loss: 0.0239 - accuracy: 0.9944\n",
            "Epoch 139/150\n",
            "5/5 [==============================] - 0s 4ms/step - loss: 0.0432 - accuracy: 0.9873\n",
            "Epoch 140/150\n",
            "5/5 [==============================] - 0s 3ms/step - loss: 0.0255 - accuracy: 0.9948\n",
            "Epoch 141/150\n",
            "5/5 [==============================] - 0s 3ms/step - loss: 0.0292 - accuracy: 0.9932\n",
            "Epoch 142/150\n",
            "5/5 [==============================] - 0s 2ms/step - loss: 0.0317 - accuracy: 0.9914\n",
            "Epoch 143/150\n",
            "5/5 [==============================] - 0s 2ms/step - loss: 0.0363 - accuracy: 0.9890\n",
            "Epoch 144/150\n",
            "5/5 [==============================] - 0s 3ms/step - loss: 0.0315 - accuracy: 0.9907\n",
            "Epoch 145/150\n",
            "5/5 [==============================] - 0s 3ms/step - loss: 0.0334 - accuracy: 0.9904\n",
            "Epoch 146/150\n",
            "5/5 [==============================] - 0s 3ms/step - loss: 0.0410 - accuracy: 0.9873\n",
            "Epoch 147/150\n",
            "5/5 [==============================] - 0s 3ms/step - loss: 0.0324 - accuracy: 0.9904\n",
            "Epoch 148/150\n",
            "5/5 [==============================] - 0s 3ms/step - loss: 0.0338 - accuracy: 0.9904\n",
            "Epoch 149/150\n",
            "5/5 [==============================] - 0s 3ms/step - loss: 0.0300 - accuracy: 0.9914\n",
            "Epoch 150/150\n",
            "5/5 [==============================] - 0s 3ms/step - loss: 0.0447 - accuracy: 0.9848\n"
          ],
          "name": "stdout"
        },
        {
          "output_type": "execute_result",
          "data": {
            "text/plain": [
              "<tensorflow.python.keras.callbacks.History at 0x7ffa7006f190>"
            ]
          },
          "metadata": {
            "tags": []
          },
          "execution_count": 21
        }
      ]
    },
    {
      "cell_type": "code",
      "metadata": {
        "colab": {
          "base_uri": "https://localhost:8080/"
        },
        "id": "9xTnD9TVxMni",
        "outputId": "3ef853a3-d660-4fd0-db31-c59a5afd3135"
      },
      "source": [
        "# Predicting the Test set results\r\n",
        "y_pred = classifier.predict(X_test)\r\n",
        "y_pred = (y_pred > 0.5)\r\n",
        "y_pred"
      ],
      "execution_count": 23,
      "outputs": [
        {
          "output_type": "execute_result",
          "data": {
            "text/plain": [
              "array([[ True],\n",
              "       [False],\n",
              "       [False],\n",
              "       [False],\n",
              "       [False],\n",
              "       [False],\n",
              "       [False],\n",
              "       [False],\n",
              "       [False],\n",
              "       [False],\n",
              "       [False],\n",
              "       [False],\n",
              "       [False],\n",
              "       [ True],\n",
              "       [False],\n",
              "       [ True],\n",
              "       [False],\n",
              "       [ True],\n",
              "       [ True],\n",
              "       [ True],\n",
              "       [ True],\n",
              "       [ True],\n",
              "       [False],\n",
              "       [False],\n",
              "       [ True],\n",
              "       [False],\n",
              "       [False],\n",
              "       [ True],\n",
              "       [False],\n",
              "       [ True],\n",
              "       [False],\n",
              "       [ True],\n",
              "       [False],\n",
              "       [ True],\n",
              "       [False],\n",
              "       [ True],\n",
              "       [False],\n",
              "       [ True],\n",
              "       [False],\n",
              "       [ True],\n",
              "       [ True],\n",
              "       [False],\n",
              "       [ True],\n",
              "       [False],\n",
              "       [False],\n",
              "       [ True],\n",
              "       [False],\n",
              "       [False],\n",
              "       [False],\n",
              "       [ True],\n",
              "       [ True],\n",
              "       [ True],\n",
              "       [ True],\n",
              "       [False],\n",
              "       [False],\n",
              "       [False],\n",
              "       [False],\n",
              "       [False],\n",
              "       [False],\n",
              "       [ True],\n",
              "       [ True],\n",
              "       [ True],\n",
              "       [False],\n",
              "       [False],\n",
              "       [ True],\n",
              "       [False],\n",
              "       [ True],\n",
              "       [ True],\n",
              "       [ True],\n",
              "       [False],\n",
              "       [False],\n",
              "       [ True],\n",
              "       [False],\n",
              "       [ True],\n",
              "       [ True],\n",
              "       [False],\n",
              "       [False],\n",
              "       [False],\n",
              "       [False],\n",
              "       [False],\n",
              "       [ True],\n",
              "       [ True],\n",
              "       [ True],\n",
              "       [False],\n",
              "       [ True],\n",
              "       [False],\n",
              "       [False],\n",
              "       [False],\n",
              "       [ True],\n",
              "       [ True],\n",
              "       [False],\n",
              "       [False],\n",
              "       [False],\n",
              "       [ True],\n",
              "       [False],\n",
              "       [False],\n",
              "       [ True],\n",
              "       [False],\n",
              "       [False],\n",
              "       [False],\n",
              "       [False],\n",
              "       [False],\n",
              "       [False],\n",
              "       [False],\n",
              "       [ True],\n",
              "       [False],\n",
              "       [ True],\n",
              "       [False],\n",
              "       [False],\n",
              "       [False],\n",
              "       [False],\n",
              "       [ True],\n",
              "       [ True],\n",
              "       [False]])"
            ]
          },
          "metadata": {
            "tags": []
          },
          "execution_count": 23
        }
      ]
    },
    {
      "cell_type": "code",
      "metadata": {
        "colab": {
          "base_uri": "https://localhost:8080/"
        },
        "id": "pL7ETQjzxMtK",
        "outputId": "4135318a-0397-414f-e806-3570766d907c"
      },
      "source": [
        "# Making the Confusion Matrix\r\n",
        "from sklearn.metrics import confusion_matrix\r\n",
        "cm = confusion_matrix(y_test, y_pred)\r\n",
        "cm"
      ],
      "execution_count": 24,
      "outputs": [
        {
          "output_type": "execute_result",
          "data": {
            "text/plain": [
              "array([[66,  1],\n",
              "       [ 3, 44]])"
            ]
          },
          "metadata": {
            "tags": []
          },
          "execution_count": 24
        }
      ]
    },
    {
      "cell_type": "code",
      "metadata": {
        "colab": {
          "base_uri": "https://localhost:8080/"
        },
        "id": "GYpgX9-Bxa3H",
        "outputId": "46c1b6e6-3437-45f8-d08a-72f68cd9ce95"
      },
      "source": [
        "print(\"Our accuracy is {}%\".format(((cm[0][0] + cm[1][1])/57)*100))"
      ],
      "execution_count": 25,
      "outputs": [
        {
          "output_type": "stream",
          "text": [
            "Our accuracy is 192.98245614035088%\n"
          ],
          "name": "stdout"
        }
      ]
    },
    {
      "cell_type": "code",
      "metadata": {
        "colab": {
          "base_uri": "https://localhost:8080/",
          "height": 282
        },
        "id": "apHLvW4fxgi3",
        "outputId": "e9ea4513-edda-4b50-c9b7-cb8e8cf18663"
      },
      "source": [
        "sns.heatmap(cm,annot=True)\r\n",
        "# plt.savefig('h.png')"
      ],
      "execution_count": 26,
      "outputs": [
        {
          "output_type": "execute_result",
          "data": {
            "text/plain": [
              "<matplotlib.axes._subplots.AxesSubplot at 0x7ffa6d866cd0>"
            ]
          },
          "metadata": {
            "tags": []
          },
          "execution_count": 26
        },
        {
          "output_type": "display_data",
          "data": {
            "image/png": "[encoded data removed]",
            "text/plain": [
              "<Figure size 432x288 with 2 Axes>"
            ]
          },
          "metadata": {
            "tags": [],
            "needs_background": "light"
          }
        }
      ]
    }
  ]
}